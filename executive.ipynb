{
 "cells": [
  {
   "cell_type": "markdown",
   "metadata": {},
   "source": [
    "# Import the Data"
   ]
  },
  {
   "cell_type": "code",
   "execution_count": 1,
   "metadata": {},
   "outputs": [
    {
     "name": "stdout",
     "output_type": "stream",
     "text": [
      "<class 'pandas.core.frame.DataFrame'>\n",
      "RangeIndex: 21597 entries, 0 to 21596\n",
      "Data columns (total 21 columns):\n",
      "id               21597 non-null int64\n",
      "date             21597 non-null object\n",
      "price            21597 non-null float64\n",
      "bedrooms         21597 non-null int64\n",
      "bathrooms        21597 non-null float64\n",
      "sqft_living      21597 non-null int64\n",
      "sqft_lot         21597 non-null int64\n",
      "floors           21597 non-null float64\n",
      "waterfront       19221 non-null float64\n",
      "view             21534 non-null float64\n",
      "condition        21597 non-null int64\n",
      "grade            21597 non-null int64\n",
      "sqft_above       21597 non-null int64\n",
      "sqft_basement    21597 non-null object\n",
      "yr_built         21597 non-null int64\n",
      "yr_renovated     17755 non-null float64\n",
      "zipcode          21597 non-null int64\n",
      "lat              21597 non-null float64\n",
      "long             21597 non-null float64\n",
      "sqft_living15    21597 non-null int64\n",
      "sqft_lot15       21597 non-null int64\n",
      "dtypes: float64(8), int64(11), object(2)\n",
      "memory usage: 3.5+ MB\n"
     ]
    }
   ],
   "source": [
    "import pandas as pd\n",
    "import numpy as np\n",
    "import matplotlib.pyplot as plt\n",
    "import seaborn as sns\n",
    "import statsmodels.api as sm\n",
    "%matplotlib inline\n",
    "\n",
    "df = pd.read_csv('data/kc_house_data.csv')\n",
    "df.info()"
   ]
  },
  {
   "cell_type": "code",
   "execution_count": 2,
   "metadata": {},
   "outputs": [],
   "source": [
    "# 21,597 entires with null values in the waterfront, view, and yr_renovated columns."
   ]
  },
  {
   "cell_type": "code",
   "execution_count": 3,
   "metadata": {},
   "outputs": [
    {
     "data": {
      "text/html": [
       "<div>\n",
       "<style scoped>\n",
       "    .dataframe tbody tr th:only-of-type {\n",
       "        vertical-align: middle;\n",
       "    }\n",
       "\n",
       "    .dataframe tbody tr th {\n",
       "        vertical-align: top;\n",
       "    }\n",
       "\n",
       "    .dataframe thead th {\n",
       "        text-align: right;\n",
       "    }\n",
       "</style>\n",
       "<table border=\"1\" class=\"dataframe\">\n",
       "  <thead>\n",
       "    <tr style=\"text-align: right;\">\n",
       "      <th></th>\n",
       "      <th>id</th>\n",
       "      <th>date</th>\n",
       "      <th>price</th>\n",
       "      <th>bedrooms</th>\n",
       "      <th>bathrooms</th>\n",
       "      <th>sqft_living</th>\n",
       "      <th>sqft_lot</th>\n",
       "      <th>floors</th>\n",
       "      <th>waterfront</th>\n",
       "      <th>view</th>\n",
       "      <th>...</th>\n",
       "      <th>grade</th>\n",
       "      <th>sqft_above</th>\n",
       "      <th>sqft_basement</th>\n",
       "      <th>yr_built</th>\n",
       "      <th>yr_renovated</th>\n",
       "      <th>zipcode</th>\n",
       "      <th>lat</th>\n",
       "      <th>long</th>\n",
       "      <th>sqft_living15</th>\n",
       "      <th>sqft_lot15</th>\n",
       "    </tr>\n",
       "  </thead>\n",
       "  <tbody>\n",
       "    <tr>\n",
       "      <td>0</td>\n",
       "      <td>7129300520</td>\n",
       "      <td>10/13/2014</td>\n",
       "      <td>221900.0</td>\n",
       "      <td>3</td>\n",
       "      <td>1.00</td>\n",
       "      <td>1180</td>\n",
       "      <td>5650</td>\n",
       "      <td>1.0</td>\n",
       "      <td>NaN</td>\n",
       "      <td>0.0</td>\n",
       "      <td>...</td>\n",
       "      <td>7</td>\n",
       "      <td>1180</td>\n",
       "      <td>0.0</td>\n",
       "      <td>1955</td>\n",
       "      <td>0.0</td>\n",
       "      <td>98178</td>\n",
       "      <td>47.5112</td>\n",
       "      <td>-122.257</td>\n",
       "      <td>1340</td>\n",
       "      <td>5650</td>\n",
       "    </tr>\n",
       "    <tr>\n",
       "      <td>1</td>\n",
       "      <td>6414100192</td>\n",
       "      <td>12/9/2014</td>\n",
       "      <td>538000.0</td>\n",
       "      <td>3</td>\n",
       "      <td>2.25</td>\n",
       "      <td>2570</td>\n",
       "      <td>7242</td>\n",
       "      <td>2.0</td>\n",
       "      <td>0.0</td>\n",
       "      <td>0.0</td>\n",
       "      <td>...</td>\n",
       "      <td>7</td>\n",
       "      <td>2170</td>\n",
       "      <td>400.0</td>\n",
       "      <td>1951</td>\n",
       "      <td>1991.0</td>\n",
       "      <td>98125</td>\n",
       "      <td>47.7210</td>\n",
       "      <td>-122.319</td>\n",
       "      <td>1690</td>\n",
       "      <td>7639</td>\n",
       "    </tr>\n",
       "    <tr>\n",
       "      <td>2</td>\n",
       "      <td>5631500400</td>\n",
       "      <td>2/25/2015</td>\n",
       "      <td>180000.0</td>\n",
       "      <td>2</td>\n",
       "      <td>1.00</td>\n",
       "      <td>770</td>\n",
       "      <td>10000</td>\n",
       "      <td>1.0</td>\n",
       "      <td>0.0</td>\n",
       "      <td>0.0</td>\n",
       "      <td>...</td>\n",
       "      <td>6</td>\n",
       "      <td>770</td>\n",
       "      <td>0.0</td>\n",
       "      <td>1933</td>\n",
       "      <td>NaN</td>\n",
       "      <td>98028</td>\n",
       "      <td>47.7379</td>\n",
       "      <td>-122.233</td>\n",
       "      <td>2720</td>\n",
       "      <td>8062</td>\n",
       "    </tr>\n",
       "    <tr>\n",
       "      <td>3</td>\n",
       "      <td>2487200875</td>\n",
       "      <td>12/9/2014</td>\n",
       "      <td>604000.0</td>\n",
       "      <td>4</td>\n",
       "      <td>3.00</td>\n",
       "      <td>1960</td>\n",
       "      <td>5000</td>\n",
       "      <td>1.0</td>\n",
       "      <td>0.0</td>\n",
       "      <td>0.0</td>\n",
       "      <td>...</td>\n",
       "      <td>7</td>\n",
       "      <td>1050</td>\n",
       "      <td>910.0</td>\n",
       "      <td>1965</td>\n",
       "      <td>0.0</td>\n",
       "      <td>98136</td>\n",
       "      <td>47.5208</td>\n",
       "      <td>-122.393</td>\n",
       "      <td>1360</td>\n",
       "      <td>5000</td>\n",
       "    </tr>\n",
       "    <tr>\n",
       "      <td>4</td>\n",
       "      <td>1954400510</td>\n",
       "      <td>2/18/2015</td>\n",
       "      <td>510000.0</td>\n",
       "      <td>3</td>\n",
       "      <td>2.00</td>\n",
       "      <td>1680</td>\n",
       "      <td>8080</td>\n",
       "      <td>1.0</td>\n",
       "      <td>0.0</td>\n",
       "      <td>0.0</td>\n",
       "      <td>...</td>\n",
       "      <td>8</td>\n",
       "      <td>1680</td>\n",
       "      <td>0.0</td>\n",
       "      <td>1987</td>\n",
       "      <td>0.0</td>\n",
       "      <td>98074</td>\n",
       "      <td>47.6168</td>\n",
       "      <td>-122.045</td>\n",
       "      <td>1800</td>\n",
       "      <td>7503</td>\n",
       "    </tr>\n",
       "    <tr>\n",
       "      <td>5</td>\n",
       "      <td>7237550310</td>\n",
       "      <td>5/12/2014</td>\n",
       "      <td>1230000.0</td>\n",
       "      <td>4</td>\n",
       "      <td>4.50</td>\n",
       "      <td>5420</td>\n",
       "      <td>101930</td>\n",
       "      <td>1.0</td>\n",
       "      <td>0.0</td>\n",
       "      <td>0.0</td>\n",
       "      <td>...</td>\n",
       "      <td>11</td>\n",
       "      <td>3890</td>\n",
       "      <td>1530.0</td>\n",
       "      <td>2001</td>\n",
       "      <td>0.0</td>\n",
       "      <td>98053</td>\n",
       "      <td>47.6561</td>\n",
       "      <td>-122.005</td>\n",
       "      <td>4760</td>\n",
       "      <td>101930</td>\n",
       "    </tr>\n",
       "    <tr>\n",
       "      <td>6</td>\n",
       "      <td>1321400060</td>\n",
       "      <td>6/27/2014</td>\n",
       "      <td>257500.0</td>\n",
       "      <td>3</td>\n",
       "      <td>2.25</td>\n",
       "      <td>1715</td>\n",
       "      <td>6819</td>\n",
       "      <td>2.0</td>\n",
       "      <td>0.0</td>\n",
       "      <td>0.0</td>\n",
       "      <td>...</td>\n",
       "      <td>7</td>\n",
       "      <td>1715</td>\n",
       "      <td>?</td>\n",
       "      <td>1995</td>\n",
       "      <td>0.0</td>\n",
       "      <td>98003</td>\n",
       "      <td>47.3097</td>\n",
       "      <td>-122.327</td>\n",
       "      <td>2238</td>\n",
       "      <td>6819</td>\n",
       "    </tr>\n",
       "    <tr>\n",
       "      <td>7</td>\n",
       "      <td>2008000270</td>\n",
       "      <td>1/15/2015</td>\n",
       "      <td>291850.0</td>\n",
       "      <td>3</td>\n",
       "      <td>1.50</td>\n",
       "      <td>1060</td>\n",
       "      <td>9711</td>\n",
       "      <td>1.0</td>\n",
       "      <td>0.0</td>\n",
       "      <td>NaN</td>\n",
       "      <td>...</td>\n",
       "      <td>7</td>\n",
       "      <td>1060</td>\n",
       "      <td>0.0</td>\n",
       "      <td>1963</td>\n",
       "      <td>0.0</td>\n",
       "      <td>98198</td>\n",
       "      <td>47.4095</td>\n",
       "      <td>-122.315</td>\n",
       "      <td>1650</td>\n",
       "      <td>9711</td>\n",
       "    </tr>\n",
       "    <tr>\n",
       "      <td>8</td>\n",
       "      <td>2414600126</td>\n",
       "      <td>4/15/2015</td>\n",
       "      <td>229500.0</td>\n",
       "      <td>3</td>\n",
       "      <td>1.00</td>\n",
       "      <td>1780</td>\n",
       "      <td>7470</td>\n",
       "      <td>1.0</td>\n",
       "      <td>0.0</td>\n",
       "      <td>0.0</td>\n",
       "      <td>...</td>\n",
       "      <td>7</td>\n",
       "      <td>1050</td>\n",
       "      <td>730.0</td>\n",
       "      <td>1960</td>\n",
       "      <td>0.0</td>\n",
       "      <td>98146</td>\n",
       "      <td>47.5123</td>\n",
       "      <td>-122.337</td>\n",
       "      <td>1780</td>\n",
       "      <td>8113</td>\n",
       "    </tr>\n",
       "    <tr>\n",
       "      <td>9</td>\n",
       "      <td>3793500160</td>\n",
       "      <td>3/12/2015</td>\n",
       "      <td>323000.0</td>\n",
       "      <td>3</td>\n",
       "      <td>2.50</td>\n",
       "      <td>1890</td>\n",
       "      <td>6560</td>\n",
       "      <td>2.0</td>\n",
       "      <td>0.0</td>\n",
       "      <td>0.0</td>\n",
       "      <td>...</td>\n",
       "      <td>7</td>\n",
       "      <td>1890</td>\n",
       "      <td>0.0</td>\n",
       "      <td>2003</td>\n",
       "      <td>0.0</td>\n",
       "      <td>98038</td>\n",
       "      <td>47.3684</td>\n",
       "      <td>-122.031</td>\n",
       "      <td>2390</td>\n",
       "      <td>7570</td>\n",
       "    </tr>\n",
       "  </tbody>\n",
       "</table>\n",
       "<p>10 rows × 21 columns</p>\n",
       "</div>"
      ],
      "text/plain": [
       "           id        date      price  bedrooms  bathrooms  sqft_living  \\\n",
       "0  7129300520  10/13/2014   221900.0         3       1.00         1180   \n",
       "1  6414100192   12/9/2014   538000.0         3       2.25         2570   \n",
       "2  5631500400   2/25/2015   180000.0         2       1.00          770   \n",
       "3  2487200875   12/9/2014   604000.0         4       3.00         1960   \n",
       "4  1954400510   2/18/2015   510000.0         3       2.00         1680   \n",
       "5  7237550310   5/12/2014  1230000.0         4       4.50         5420   \n",
       "6  1321400060   6/27/2014   257500.0         3       2.25         1715   \n",
       "7  2008000270   1/15/2015   291850.0         3       1.50         1060   \n",
       "8  2414600126   4/15/2015   229500.0         3       1.00         1780   \n",
       "9  3793500160   3/12/2015   323000.0         3       2.50         1890   \n",
       "\n",
       "   sqft_lot  floors  waterfront  view  ...  grade  sqft_above  sqft_basement  \\\n",
       "0      5650     1.0         NaN   0.0  ...      7        1180            0.0   \n",
       "1      7242     2.0         0.0   0.0  ...      7        2170          400.0   \n",
       "2     10000     1.0         0.0   0.0  ...      6         770            0.0   \n",
       "3      5000     1.0         0.0   0.0  ...      7        1050          910.0   \n",
       "4      8080     1.0         0.0   0.0  ...      8        1680            0.0   \n",
       "5    101930     1.0         0.0   0.0  ...     11        3890         1530.0   \n",
       "6      6819     2.0         0.0   0.0  ...      7        1715              ?   \n",
       "7      9711     1.0         0.0   NaN  ...      7        1060            0.0   \n",
       "8      7470     1.0         0.0   0.0  ...      7        1050          730.0   \n",
       "9      6560     2.0         0.0   0.0  ...      7        1890            0.0   \n",
       "\n",
       "  yr_built  yr_renovated  zipcode      lat     long  sqft_living15  sqft_lot15  \n",
       "0     1955           0.0    98178  47.5112 -122.257           1340        5650  \n",
       "1     1951        1991.0    98125  47.7210 -122.319           1690        7639  \n",
       "2     1933           NaN    98028  47.7379 -122.233           2720        8062  \n",
       "3     1965           0.0    98136  47.5208 -122.393           1360        5000  \n",
       "4     1987           0.0    98074  47.6168 -122.045           1800        7503  \n",
       "5     2001           0.0    98053  47.6561 -122.005           4760      101930  \n",
       "6     1995           0.0    98003  47.3097 -122.327           2238        6819  \n",
       "7     1963           0.0    98198  47.4095 -122.315           1650        9711  \n",
       "8     1960           0.0    98146  47.5123 -122.337           1780        8113  \n",
       "9     2003           0.0    98038  47.3684 -122.031           2390        7570  \n",
       "\n",
       "[10 rows x 21 columns]"
      ]
     },
     "execution_count": 3,
     "metadata": {},
     "output_type": "execute_result"
    }
   ],
   "source": [
    "df.head(10)"
   ]
  },
  {
   "cell_type": "markdown",
   "metadata": {},
   "source": [
    "---"
   ]
  },
  {
   "cell_type": "markdown",
   "metadata": {},
   "source": [
    "# Exploratory Data Analysis"
   ]
  },
  {
   "cell_type": "code",
   "execution_count": 4,
   "metadata": {},
   "outputs": [],
   "source": [
    "# Remove rows from the sqft_basement column with a '?' entry (this removes 454 rows)\n",
    "df = df[df.sqft_basement != '?']\n",
    "\n",
    "# Convert the sqft_basement column to an int data type, need to convert to float first\n",
    "df.sqft_basement = df.sqft_basement.astype(float).astype(int)\n",
    "\n",
    "# Drop rows in the waterfront column with NAN entries\n",
    "df.dropna(subset = ['waterfront'], inplace = True)"
   ]
  },
  {
   "cell_type": "code",
   "execution_count": 5,
   "metadata": {},
   "outputs": [
    {
     "data": {
      "text/html": [
       "<div>\n",
       "<style scoped>\n",
       "    .dataframe tbody tr th:only-of-type {\n",
       "        vertical-align: middle;\n",
       "    }\n",
       "\n",
       "    .dataframe tbody tr th {\n",
       "        vertical-align: top;\n",
       "    }\n",
       "\n",
       "    .dataframe thead th {\n",
       "        text-align: right;\n",
       "    }\n",
       "</style>\n",
       "<table border=\"1\" class=\"dataframe\">\n",
       "  <thead>\n",
       "    <tr style=\"text-align: right;\">\n",
       "      <th></th>\n",
       "      <th>price</th>\n",
       "      <th>bedrooms</th>\n",
       "      <th>bathrooms</th>\n",
       "      <th>sqft_living</th>\n",
       "      <th>sqft_lot</th>\n",
       "      <th>floors</th>\n",
       "      <th>waterfront</th>\n",
       "      <th>condition</th>\n",
       "      <th>grade</th>\n",
       "      <th>sqft_above</th>\n",
       "      <th>sqft_basement</th>\n",
       "      <th>yr_built</th>\n",
       "      <th>yr_renovated</th>\n",
       "      <th>zipcode</th>\n",
       "      <th>density</th>\n",
       "    </tr>\n",
       "  </thead>\n",
       "  <tbody>\n",
       "    <tr>\n",
       "      <td>1</td>\n",
       "      <td>538000.0</td>\n",
       "      <td>3</td>\n",
       "      <td>2.25</td>\n",
       "      <td>2570</td>\n",
       "      <td>7242</td>\n",
       "      <td>2.0</td>\n",
       "      <td>0.0</td>\n",
       "      <td>3</td>\n",
       "      <td>7</td>\n",
       "      <td>2170</td>\n",
       "      <td>400</td>\n",
       "      <td>1951</td>\n",
       "      <td>1991.0</td>\n",
       "      <td>98125</td>\n",
       "      <td>0.354874</td>\n",
       "    </tr>\n",
       "    <tr>\n",
       "      <td>2</td>\n",
       "      <td>180000.0</td>\n",
       "      <td>2</td>\n",
       "      <td>1.00</td>\n",
       "      <td>770</td>\n",
       "      <td>10000</td>\n",
       "      <td>1.0</td>\n",
       "      <td>0.0</td>\n",
       "      <td>3</td>\n",
       "      <td>6</td>\n",
       "      <td>770</td>\n",
       "      <td>0</td>\n",
       "      <td>1933</td>\n",
       "      <td>NaN</td>\n",
       "      <td>98028</td>\n",
       "      <td>0.077000</td>\n",
       "    </tr>\n",
       "    <tr>\n",
       "      <td>3</td>\n",
       "      <td>604000.0</td>\n",
       "      <td>4</td>\n",
       "      <td>3.00</td>\n",
       "      <td>1960</td>\n",
       "      <td>5000</td>\n",
       "      <td>1.0</td>\n",
       "      <td>0.0</td>\n",
       "      <td>5</td>\n",
       "      <td>7</td>\n",
       "      <td>1050</td>\n",
       "      <td>910</td>\n",
       "      <td>1965</td>\n",
       "      <td>0.0</td>\n",
       "      <td>98136</td>\n",
       "      <td>0.392000</td>\n",
       "    </tr>\n",
       "    <tr>\n",
       "      <td>4</td>\n",
       "      <td>510000.0</td>\n",
       "      <td>3</td>\n",
       "      <td>2.00</td>\n",
       "      <td>1680</td>\n",
       "      <td>8080</td>\n",
       "      <td>1.0</td>\n",
       "      <td>0.0</td>\n",
       "      <td>3</td>\n",
       "      <td>8</td>\n",
       "      <td>1680</td>\n",
       "      <td>0</td>\n",
       "      <td>1987</td>\n",
       "      <td>0.0</td>\n",
       "      <td>98074</td>\n",
       "      <td>0.207921</td>\n",
       "    </tr>\n",
       "    <tr>\n",
       "      <td>5</td>\n",
       "      <td>1230000.0</td>\n",
       "      <td>4</td>\n",
       "      <td>4.50</td>\n",
       "      <td>5420</td>\n",
       "      <td>101930</td>\n",
       "      <td>1.0</td>\n",
       "      <td>0.0</td>\n",
       "      <td>3</td>\n",
       "      <td>11</td>\n",
       "      <td>3890</td>\n",
       "      <td>1530</td>\n",
       "      <td>2001</td>\n",
       "      <td>0.0</td>\n",
       "      <td>98053</td>\n",
       "      <td>0.053174</td>\n",
       "    </tr>\n",
       "  </tbody>\n",
       "</table>\n",
       "</div>"
      ],
      "text/plain": [
       "       price  bedrooms  bathrooms  sqft_living  sqft_lot  floors  waterfront  \\\n",
       "1   538000.0         3       2.25         2570      7242     2.0         0.0   \n",
       "2   180000.0         2       1.00          770     10000     1.0         0.0   \n",
       "3   604000.0         4       3.00         1960      5000     1.0         0.0   \n",
       "4   510000.0         3       2.00         1680      8080     1.0         0.0   \n",
       "5  1230000.0         4       4.50         5420    101930     1.0         0.0   \n",
       "\n",
       "   condition  grade  sqft_above  sqft_basement  yr_built  yr_renovated  \\\n",
       "1          3      7        2170            400      1951        1991.0   \n",
       "2          3      6         770              0      1933           NaN   \n",
       "3          5      7        1050            910      1965           0.0   \n",
       "4          3      8        1680              0      1987           0.0   \n",
       "5          3     11        3890           1530      2001           0.0   \n",
       "\n",
       "   zipcode   density  \n",
       "1    98125  0.354874  \n",
       "2    98028  0.077000  \n",
       "3    98136  0.392000  \n",
       "4    98074  0.207921  \n",
       "5    98053  0.053174  "
      ]
     },
     "execution_count": 5,
     "metadata": {},
     "output_type": "execute_result"
    }
   ],
   "source": [
    "# Create a dataframe for variables used for the model\n",
    "\n",
    "# Drop irrelevant columns\n",
    "# id\n",
    "# date\n",
    "# view\n",
    "# lat/long \n",
    "# sqft_living15/sqft_lot15' \n",
    "df.drop(columns=['id', 'date', 'view', 'lat', 'long', 'sqft_living15', 'sqft_lot15'], inplace = True)\n",
    "\n",
    "# Create a living_density column that compares the living area to the lot area\n",
    "df['density'] = df.sqft_living / df.sqft_lot\n",
    "\n",
    "df.head()"
   ]
  },
  {
   "cell_type": "code",
   "execution_count": 6,
   "metadata": {},
   "outputs": [
    {
     "name": "stdout",
     "output_type": "stream",
     "text": [
      "<class 'pandas.core.frame.DataFrame'>\n",
      "Int64Index: 18804 entries, 1 to 21596\n",
      "Data columns (total 15 columns):\n",
      "price            18804 non-null float64\n",
      "bedrooms         18804 non-null int64\n",
      "bathrooms        18804 non-null float64\n",
      "sqft_living      18804 non-null int64\n",
      "sqft_lot         18804 non-null int64\n",
      "floors           18804 non-null float64\n",
      "waterfront       18804 non-null float64\n",
      "condition        18804 non-null int64\n",
      "grade            18804 non-null int64\n",
      "sqft_above       18804 non-null int64\n",
      "sqft_basement    18804 non-null int64\n",
      "yr_built         18804 non-null int64\n",
      "yr_renovated     15474 non-null float64\n",
      "zipcode          18804 non-null int64\n",
      "density          18804 non-null float64\n",
      "dtypes: float64(6), int64(9)\n",
      "memory usage: 2.3 MB\n"
     ]
    }
   ],
   "source": [
    "df.info()"
   ]
  },
  {
   "cell_type": "code",
   "execution_count": 7,
   "metadata": {},
   "outputs": [
    {
     "data": {
      "text/html": [
       "<div>\n",
       "<style scoped>\n",
       "    .dataframe tbody tr th:only-of-type {\n",
       "        vertical-align: middle;\n",
       "    }\n",
       "\n",
       "    .dataframe tbody tr th {\n",
       "        vertical-align: top;\n",
       "    }\n",
       "\n",
       "    .dataframe thead th {\n",
       "        text-align: right;\n",
       "    }\n",
       "</style>\n",
       "<table border=\"1\" class=\"dataframe\">\n",
       "  <thead>\n",
       "    <tr style=\"text-align: right;\">\n",
       "      <th></th>\n",
       "      <th>price</th>\n",
       "      <th>bedrooms</th>\n",
       "      <th>bathrooms</th>\n",
       "      <th>sqft_living</th>\n",
       "      <th>sqft_lot</th>\n",
       "      <th>floors</th>\n",
       "      <th>waterfront</th>\n",
       "      <th>condition</th>\n",
       "      <th>grade</th>\n",
       "      <th>sqft_above</th>\n",
       "      <th>sqft_basement</th>\n",
       "      <th>yr_built</th>\n",
       "      <th>yr_renovated</th>\n",
       "      <th>zipcode</th>\n",
       "      <th>density</th>\n",
       "    </tr>\n",
       "  </thead>\n",
       "  <tbody>\n",
       "    <tr>\n",
       "      <td>count</td>\n",
       "      <td>1.880400e+04</td>\n",
       "      <td>18804.000000</td>\n",
       "      <td>18804.000000</td>\n",
       "      <td>18804.000000</td>\n",
       "      <td>1.880400e+04</td>\n",
       "      <td>18804.000000</td>\n",
       "      <td>18804.000000</td>\n",
       "      <td>18804.000000</td>\n",
       "      <td>18804.000000</td>\n",
       "      <td>18804.000000</td>\n",
       "      <td>18804.000000</td>\n",
       "      <td>18804.000000</td>\n",
       "      <td>15474.000000</td>\n",
       "      <td>18804.000000</td>\n",
       "      <td>18804.000000</td>\n",
       "    </tr>\n",
       "    <tr>\n",
       "      <td>mean</td>\n",
       "      <td>5.418399e+05</td>\n",
       "      <td>3.374388</td>\n",
       "      <td>2.117541</td>\n",
       "      <td>2083.155499</td>\n",
       "      <td>1.509805e+04</td>\n",
       "      <td>1.494522</td>\n",
       "      <td>0.007552</td>\n",
       "      <td>3.410019</td>\n",
       "      <td>7.661615</td>\n",
       "      <td>1791.997713</td>\n",
       "      <td>291.157786</td>\n",
       "      <td>1971.068868</td>\n",
       "      <td>81.657684</td>\n",
       "      <td>98077.631780</td>\n",
       "      <td>0.323421</td>\n",
       "    </tr>\n",
       "    <tr>\n",
       "      <td>std</td>\n",
       "      <td>3.730331e+05</td>\n",
       "      <td>0.927297</td>\n",
       "      <td>0.769623</td>\n",
       "      <td>923.070881</td>\n",
       "      <td>4.102504e+04</td>\n",
       "      <td>0.539777</td>\n",
       "      <td>0.086573</td>\n",
       "      <td>0.650183</td>\n",
       "      <td>1.177350</td>\n",
       "      <td>832.378323</td>\n",
       "      <td>442.758076</td>\n",
       "      <td>29.320879</td>\n",
       "      <td>395.416206</td>\n",
       "      <td>53.481088</td>\n",
       "      <td>0.269304</td>\n",
       "    </tr>\n",
       "    <tr>\n",
       "      <td>min</td>\n",
       "      <td>7.800000e+04</td>\n",
       "      <td>1.000000</td>\n",
       "      <td>0.500000</td>\n",
       "      <td>370.000000</td>\n",
       "      <td>5.200000e+02</td>\n",
       "      <td>1.000000</td>\n",
       "      <td>0.000000</td>\n",
       "      <td>1.000000</td>\n",
       "      <td>3.000000</td>\n",
       "      <td>370.000000</td>\n",
       "      <td>0.000000</td>\n",
       "      <td>1900.000000</td>\n",
       "      <td>0.000000</td>\n",
       "      <td>98001.000000</td>\n",
       "      <td>0.000610</td>\n",
       "    </tr>\n",
       "    <tr>\n",
       "      <td>25%</td>\n",
       "      <td>3.215000e+05</td>\n",
       "      <td>3.000000</td>\n",
       "      <td>1.750000</td>\n",
       "      <td>1430.000000</td>\n",
       "      <td>5.048000e+03</td>\n",
       "      <td>1.000000</td>\n",
       "      <td>0.000000</td>\n",
       "      <td>3.000000</td>\n",
       "      <td>7.000000</td>\n",
       "      <td>1200.000000</td>\n",
       "      <td>0.000000</td>\n",
       "      <td>1952.000000</td>\n",
       "      <td>0.000000</td>\n",
       "      <td>98032.000000</td>\n",
       "      <td>0.156290</td>\n",
       "    </tr>\n",
       "    <tr>\n",
       "      <td>50%</td>\n",
       "      <td>4.500000e+05</td>\n",
       "      <td>3.000000</td>\n",
       "      <td>2.250000</td>\n",
       "      <td>1920.000000</td>\n",
       "      <td>7.629500e+03</td>\n",
       "      <td>1.500000</td>\n",
       "      <td>0.000000</td>\n",
       "      <td>3.000000</td>\n",
       "      <td>7.000000</td>\n",
       "      <td>1560.000000</td>\n",
       "      <td>0.000000</td>\n",
       "      <td>1975.000000</td>\n",
       "      <td>0.000000</td>\n",
       "      <td>98065.000000</td>\n",
       "      <td>0.247225</td>\n",
       "    </tr>\n",
       "    <tr>\n",
       "      <td>75%</td>\n",
       "      <td>6.436125e+05</td>\n",
       "      <td>4.000000</td>\n",
       "      <td>2.500000</td>\n",
       "      <td>2550.000000</td>\n",
       "      <td>1.072075e+04</td>\n",
       "      <td>2.000000</td>\n",
       "      <td>0.000000</td>\n",
       "      <td>4.000000</td>\n",
       "      <td>8.000000</td>\n",
       "      <td>2220.000000</td>\n",
       "      <td>560.000000</td>\n",
       "      <td>1997.000000</td>\n",
       "      <td>0.000000</td>\n",
       "      <td>98117.000000</td>\n",
       "      <td>0.405794</td>\n",
       "    </tr>\n",
       "    <tr>\n",
       "      <td>max</td>\n",
       "      <td>7.700000e+06</td>\n",
       "      <td>33.000000</td>\n",
       "      <td>8.000000</td>\n",
       "      <td>13540.000000</td>\n",
       "      <td>1.651359e+06</td>\n",
       "      <td>3.500000</td>\n",
       "      <td>1.000000</td>\n",
       "      <td>5.000000</td>\n",
       "      <td>13.000000</td>\n",
       "      <td>9410.000000</td>\n",
       "      <td>4820.000000</td>\n",
       "      <td>2015.000000</td>\n",
       "      <td>2015.000000</td>\n",
       "      <td>98199.000000</td>\n",
       "      <td>4.653846</td>\n",
       "    </tr>\n",
       "  </tbody>\n",
       "</table>\n",
       "</div>"
      ],
      "text/plain": [
       "              price      bedrooms     bathrooms   sqft_living      sqft_lot  \\\n",
       "count  1.880400e+04  18804.000000  18804.000000  18804.000000  1.880400e+04   \n",
       "mean   5.418399e+05      3.374388      2.117541   2083.155499  1.509805e+04   \n",
       "std    3.730331e+05      0.927297      0.769623    923.070881  4.102504e+04   \n",
       "min    7.800000e+04      1.000000      0.500000    370.000000  5.200000e+02   \n",
       "25%    3.215000e+05      3.000000      1.750000   1430.000000  5.048000e+03   \n",
       "50%    4.500000e+05      3.000000      2.250000   1920.000000  7.629500e+03   \n",
       "75%    6.436125e+05      4.000000      2.500000   2550.000000  1.072075e+04   \n",
       "max    7.700000e+06     33.000000      8.000000  13540.000000  1.651359e+06   \n",
       "\n",
       "             floors    waterfront     condition         grade    sqft_above  \\\n",
       "count  18804.000000  18804.000000  18804.000000  18804.000000  18804.000000   \n",
       "mean       1.494522      0.007552      3.410019      7.661615   1791.997713   \n",
       "std        0.539777      0.086573      0.650183      1.177350    832.378323   \n",
       "min        1.000000      0.000000      1.000000      3.000000    370.000000   \n",
       "25%        1.000000      0.000000      3.000000      7.000000   1200.000000   \n",
       "50%        1.500000      0.000000      3.000000      7.000000   1560.000000   \n",
       "75%        2.000000      0.000000      4.000000      8.000000   2220.000000   \n",
       "max        3.500000      1.000000      5.000000     13.000000   9410.000000   \n",
       "\n",
       "       sqft_basement      yr_built  yr_renovated       zipcode       density  \n",
       "count   18804.000000  18804.000000  15474.000000  18804.000000  18804.000000  \n",
       "mean      291.157786   1971.068868     81.657684  98077.631780      0.323421  \n",
       "std       442.758076     29.320879    395.416206     53.481088      0.269304  \n",
       "min         0.000000   1900.000000      0.000000  98001.000000      0.000610  \n",
       "25%         0.000000   1952.000000      0.000000  98032.000000      0.156290  \n",
       "50%         0.000000   1975.000000      0.000000  98065.000000      0.247225  \n",
       "75%       560.000000   1997.000000      0.000000  98117.000000      0.405794  \n",
       "max      4820.000000   2015.000000   2015.000000  98199.000000      4.653846  "
      ]
     },
     "execution_count": 7,
     "metadata": {},
     "output_type": "execute_result"
    }
   ],
   "source": [
    "df.describe()"
   ]
  },
  {
   "cell_type": "markdown",
   "metadata": {},
   "source": [
    "### Checking for Outliers"
   ]
  },
  {
   "cell_type": "code",
   "execution_count": 8,
   "metadata": {},
   "outputs": [
    {
     "data": {
      "image/png": "[encoded data removed]",
      "text/plain": [
       "<Figure size 576x288 with 1 Axes>"
      ]
     },
     "metadata": {},
     "output_type": "display_data"
    },
    {
     "data": {
      "image/png": "[encoded data removed]",
      "text/plain": [
       "<Figure size 576x288 with 1 Axes>"
      ]
     },
     "metadata": {},
     "output_type": "display_data"
    },
    {
     "data": {
      "image/png": "[encoded data removed]",
      "text/plain": [
       "<Figure size 576x288 with 1 Axes>"
      ]
     },
     "metadata": {},
     "output_type": "display_data"
    },
    {
     "data": {
      "image/png": "[encoded data removed]",
      "text/plain": [
       "<Figure size 576x288 with 1 Axes>"
      ]
     },
     "metadata": {},
     "output_type": "display_data"
    },
    {
     "data": {
      "image/png": "[encoded data removed]",
      "text/plain": [
       "<Figure size 576x288 with 1 Axes>"
      ]
     },
     "metadata": {},
     "output_type": "display_data"
    },
    {
     "data": {
      "image/png": "[encoded data removed]",
      "text/plain": [
       "<Figure size 576x288 with 1 Axes>"
      ]
     },
     "metadata": {},
     "output_type": "display_data"
    },
    {
     "data": {
      "image/png": "[encoded data removed]",
      "text/plain": [
       "<Figure size 576x288 with 1 Axes>"
      ]
     },
     "metadata": {},
     "output_type": "display_data"
    },
    {
     "data": {
      "image/png": "[encoded data removed]",
      "text/plain": [
       "<Figure size 576x288 with 1 Axes>"
      ]
     },
     "metadata": {},
     "output_type": "display_data"
    },
    {
     "data": {
      "image/png": "[encoded data removed]",
      "text/plain": [
       "<Figure size 576x288 with 1 Axes>"
      ]
     },
     "metadata": {},
     "output_type": "display_data"
    },
    {
     "data": {
      "image/png": "[encoded data removed]",
      "text/plain": [
       "<Figure size 576x288 with 1 Axes>"
      ]
     },
     "metadata": {},
     "output_type": "display_data"
    },
    {
     "data": {
      "image/png": "[encoded data removed]",
      "text/plain": [
       "<Figure size 576x288 with 1 Axes>"
      ]
     },
     "metadata": {},
     "output_type": "display_data"
    },
    {
     "data": {
      "image/png": "[encoded data removed]",
      "text/plain": [
       "<Figure size 576x288 with 1 Axes>"
      ]
     },
     "metadata": {},
     "output_type": "display_data"
    },
    {
     "data": {
      "image/png": "[encoded data removed]",
      "text/plain": [
       "<Figure size 576x288 with 1 Axes>"
      ]
     },
     "metadata": {},
     "output_type": "display_data"
    },
    {
     "data": {
      "image/png": "[encoded data removed]",
      "text/plain": [
       "<Figure size 576x288 with 1 Axes>"
      ]
     },
     "metadata": {},
     "output_type": "display_data"
    },
    {
     "data": {
      "image/png": "[encoded data removed]",
      "text/plain": [
       "<Figure size 576x288 with 1 Axes>"
      ]
     },
     "metadata": {},
     "output_type": "display_data"
    }
   ],
   "source": [
    "columns = df.columns\n",
    "\n",
    "sns.set(style='whitegrid')\n",
    "\n",
    "for column in columns:\n",
    "    fig, ax = plt.subplots(figsize=(8,4))\n",
    "    sns.boxplot(df[column])"
   ]
  },
  {
   "cell_type": "markdown",
   "metadata": {},
   "source": [
    "#### Bedrooms has an outlier. One house has over 30 bedrooms. Because this is so unusual, we decided to eliminate it. "
   ]
  },
  {
   "cell_type": "code",
   "execution_count": 9,
   "metadata": {},
   "outputs": [
    {
     "data": {
      "text/plain": [
       "<matplotlib.axes._subplots.AxesSubplot at 0x7fb7c947ced0>"
      ]
     },
     "execution_count": 9,
     "metadata": {},
     "output_type": "execute_result"
    },
    {
     "data": {
      "image/png": "[encoded data removed]",
      "text/plain": [
       "<Figure size 432x288 with 1 Axes>"
      ]
     },
     "metadata": {},
     "output_type": "display_data"
    }
   ],
   "source": [
    "sns.set(style='whitegrid')\n",
    "sns.boxplot(df['bedrooms'])"
   ]
  },
  {
   "cell_type": "code",
   "execution_count": 10,
   "metadata": {},
   "outputs": [
    {
     "data": {
      "text/html": [
       "<div>\n",
       "<style scoped>\n",
       "    .dataframe tbody tr th:only-of-type {\n",
       "        vertical-align: middle;\n",
       "    }\n",
       "\n",
       "    .dataframe tbody tr th {\n",
       "        vertical-align: top;\n",
       "    }\n",
       "\n",
       "    .dataframe thead th {\n",
       "        text-align: right;\n",
       "    }\n",
       "</style>\n",
       "<table border=\"1\" class=\"dataframe\">\n",
       "  <thead>\n",
       "    <tr style=\"text-align: right;\">\n",
       "      <th></th>\n",
       "      <th>price</th>\n",
       "      <th>bedrooms</th>\n",
       "      <th>bathrooms</th>\n",
       "      <th>sqft_living</th>\n",
       "      <th>sqft_lot</th>\n",
       "      <th>floors</th>\n",
       "      <th>waterfront</th>\n",
       "      <th>condition</th>\n",
       "      <th>grade</th>\n",
       "      <th>sqft_above</th>\n",
       "      <th>sqft_basement</th>\n",
       "      <th>yr_built</th>\n",
       "      <th>yr_renovated</th>\n",
       "      <th>zipcode</th>\n",
       "      <th>density</th>\n",
       "    </tr>\n",
       "  </thead>\n",
       "  <tbody>\n",
       "    <tr>\n",
       "      <td>15856</td>\n",
       "      <td>640000.0</td>\n",
       "      <td>33</td>\n",
       "      <td>1.75</td>\n",
       "      <td>1620</td>\n",
       "      <td>6000</td>\n",
       "      <td>1.0</td>\n",
       "      <td>0.0</td>\n",
       "      <td>5</td>\n",
       "      <td>7</td>\n",
       "      <td>1040</td>\n",
       "      <td>580</td>\n",
       "      <td>1947</td>\n",
       "      <td>0.0</td>\n",
       "      <td>98103</td>\n",
       "      <td>0.27</td>\n",
       "    </tr>\n",
       "  </tbody>\n",
       "</table>\n",
       "</div>"
      ],
      "text/plain": [
       "          price  bedrooms  bathrooms  sqft_living  sqft_lot  floors  \\\n",
       "15856  640000.0        33       1.75         1620      6000     1.0   \n",
       "\n",
       "       waterfront  condition  grade  sqft_above  sqft_basement  yr_built  \\\n",
       "15856         0.0          5      7        1040            580      1947   \n",
       "\n",
       "       yr_renovated  zipcode  density  \n",
       "15856           0.0    98103     0.27  "
      ]
     },
     "execution_count": 10,
     "metadata": {},
     "output_type": "execute_result"
    }
   ],
   "source": [
    "#locating the row of the bedroom outlier\n",
    "df.loc[df['bedrooms']>30]"
   ]
  },
  {
   "cell_type": "code",
   "execution_count": 11,
   "metadata": {},
   "outputs": [],
   "source": [
    "#dropping the row of the bedroom outlier\n",
    "df.drop(index = 15856, inplace=True)"
   ]
  },
  {
   "cell_type": "code",
   "execution_count": 12,
   "metadata": {},
   "outputs": [
    {
     "data": {
      "image/png": "[encoded data removed]",
      "text/plain": [
       "<Figure size 432x288 with 1 Axes>"
      ]
     },
     "metadata": {},
     "output_type": "display_data"
    }
   ],
   "source": [
    "#replotting a box plot\n",
    "sns.set(style='whitegrid')\n",
    "sns.boxplot(df['bedrooms']);"
   ]
  },
  {
   "cell_type": "markdown",
   "metadata": {},
   "source": [
    "#### sqft_lot has an outlier. "
   ]
  },
  {
   "cell_type": "code",
   "execution_count": 13,
   "metadata": {},
   "outputs": [
    {
     "data": {
      "image/png": "[encoded data removed]",
      "text/plain": [
       "<Figure size 432x288 with 1 Axes>"
      ]
     },
     "metadata": {},
     "output_type": "display_data"
    }
   ],
   "source": [
    "sns.boxplot(df['sqft_lot']);"
   ]
  },
  {
   "cell_type": "code",
   "execution_count": 14,
   "metadata": {},
   "outputs": [
    {
     "data": {
      "text/plain": [
       "1651359"
      ]
     },
     "execution_count": 14,
     "metadata": {},
     "output_type": "execute_result"
    }
   ],
   "source": [
    "max(df['sqft_lot'])"
   ]
  },
  {
   "cell_type": "code",
   "execution_count": 15,
   "metadata": {},
   "outputs": [
    {
     "data": {
      "text/html": [
       "<div>\n",
       "<style scoped>\n",
       "    .dataframe tbody tr th:only-of-type {\n",
       "        vertical-align: middle;\n",
       "    }\n",
       "\n",
       "    .dataframe tbody tr th {\n",
       "        vertical-align: top;\n",
       "    }\n",
       "\n",
       "    .dataframe thead th {\n",
       "        text-align: right;\n",
       "    }\n",
       "</style>\n",
       "<table border=\"1\" class=\"dataframe\">\n",
       "  <thead>\n",
       "    <tr style=\"text-align: right;\">\n",
       "      <th></th>\n",
       "      <th>price</th>\n",
       "      <th>bedrooms</th>\n",
       "      <th>bathrooms</th>\n",
       "      <th>sqft_living</th>\n",
       "      <th>sqft_lot</th>\n",
       "      <th>floors</th>\n",
       "      <th>waterfront</th>\n",
       "      <th>condition</th>\n",
       "      <th>grade</th>\n",
       "      <th>sqft_above</th>\n",
       "      <th>sqft_basement</th>\n",
       "      <th>yr_built</th>\n",
       "      <th>yr_renovated</th>\n",
       "      <th>zipcode</th>\n",
       "      <th>density</th>\n",
       "    </tr>\n",
       "  </thead>\n",
       "  <tbody>\n",
       "    <tr>\n",
       "      <td>1717</td>\n",
       "      <td>700000.0</td>\n",
       "      <td>4</td>\n",
       "      <td>1.0</td>\n",
       "      <td>1300</td>\n",
       "      <td>1651359</td>\n",
       "      <td>1.0</td>\n",
       "      <td>0.0</td>\n",
       "      <td>4</td>\n",
       "      <td>6</td>\n",
       "      <td>1300</td>\n",
       "      <td>0</td>\n",
       "      <td>1920</td>\n",
       "      <td>0.0</td>\n",
       "      <td>98022</td>\n",
       "      <td>0.000787</td>\n",
       "    </tr>\n",
       "    <tr>\n",
       "      <td>7762</td>\n",
       "      <td>855000.0</td>\n",
       "      <td>4</td>\n",
       "      <td>3.5</td>\n",
       "      <td>4030</td>\n",
       "      <td>1024068</td>\n",
       "      <td>2.0</td>\n",
       "      <td>0.0</td>\n",
       "      <td>3</td>\n",
       "      <td>10</td>\n",
       "      <td>4030</td>\n",
       "      <td>0</td>\n",
       "      <td>2006</td>\n",
       "      <td>0.0</td>\n",
       "      <td>98045</td>\n",
       "      <td>0.003935</td>\n",
       "    </tr>\n",
       "    <tr>\n",
       "      <td>17305</td>\n",
       "      <td>190000.0</td>\n",
       "      <td>2</td>\n",
       "      <td>1.0</td>\n",
       "      <td>710</td>\n",
       "      <td>1164794</td>\n",
       "      <td>1.0</td>\n",
       "      <td>0.0</td>\n",
       "      <td>2</td>\n",
       "      <td>5</td>\n",
       "      <td>710</td>\n",
       "      <td>0</td>\n",
       "      <td>1915</td>\n",
       "      <td>0.0</td>\n",
       "      <td>98014</td>\n",
       "      <td>0.000610</td>\n",
       "    </tr>\n",
       "  </tbody>\n",
       "</table>\n",
       "</div>"
      ],
      "text/plain": [
       "          price  bedrooms  bathrooms  sqft_living  sqft_lot  floors  \\\n",
       "1717   700000.0         4        1.0         1300   1651359     1.0   \n",
       "7762   855000.0         4        3.5         4030   1024068     2.0   \n",
       "17305  190000.0         2        1.0          710   1164794     1.0   \n",
       "\n",
       "       waterfront  condition  grade  sqft_above  sqft_basement  yr_built  \\\n",
       "1717          0.0          4      6        1300              0      1920   \n",
       "7762          0.0          3     10        4030              0      2006   \n",
       "17305         0.0          2      5         710              0      1915   \n",
       "\n",
       "       yr_renovated  zipcode   density  \n",
       "1717            0.0    98022  0.000787  \n",
       "7762            0.0    98045  0.003935  \n",
       "17305           0.0    98014  0.000610  "
      ]
     },
     "execution_count": 15,
     "metadata": {},
     "output_type": "execute_result"
    }
   ],
   "source": [
    "df.loc[df['sqft_lot']>1000000]"
   ]
  },
  {
   "cell_type": "markdown",
   "metadata": {},
   "source": [
    "##### Checking latitude and longitude of largest lot"
   ]
  },
  {
   "cell_type": "code",
   "execution_count": 16,
   "metadata": {},
   "outputs": [
    {
     "data": {
      "text/html": [
       "<div>\n",
       "<style scoped>\n",
       "    .dataframe tbody tr th:only-of-type {\n",
       "        vertical-align: middle;\n",
       "    }\n",
       "\n",
       "    .dataframe tbody tr th {\n",
       "        vertical-align: top;\n",
       "    }\n",
       "\n",
       "    .dataframe thead th {\n",
       "        text-align: right;\n",
       "    }\n",
       "</style>\n",
       "<table border=\"1\" class=\"dataframe\">\n",
       "  <thead>\n",
       "    <tr style=\"text-align: right;\">\n",
       "      <th></th>\n",
       "      <th>price</th>\n",
       "      <th>bedrooms</th>\n",
       "      <th>bathrooms</th>\n",
       "      <th>sqft_living</th>\n",
       "      <th>sqft_lot</th>\n",
       "      <th>floors</th>\n",
       "      <th>waterfront</th>\n",
       "      <th>condition</th>\n",
       "      <th>grade</th>\n",
       "      <th>sqft_above</th>\n",
       "      <th>sqft_basement</th>\n",
       "      <th>yr_built</th>\n",
       "      <th>yr_renovated</th>\n",
       "      <th>zipcode</th>\n",
       "      <th>density</th>\n",
       "    </tr>\n",
       "  </thead>\n",
       "  <tbody>\n",
       "    <tr>\n",
       "      <td>1717</td>\n",
       "      <td>700000.0</td>\n",
       "      <td>4</td>\n",
       "      <td>1.0</td>\n",
       "      <td>1300</td>\n",
       "      <td>1651359</td>\n",
       "      <td>1.0</td>\n",
       "      <td>0.0</td>\n",
       "      <td>4</td>\n",
       "      <td>6</td>\n",
       "      <td>1300</td>\n",
       "      <td>0</td>\n",
       "      <td>1920</td>\n",
       "      <td>0.0</td>\n",
       "      <td>98022</td>\n",
       "      <td>0.000787</td>\n",
       "    </tr>\n",
       "  </tbody>\n",
       "</table>\n",
       "</div>"
      ],
      "text/plain": [
       "         price  bedrooms  bathrooms  sqft_living  sqft_lot  floors  \\\n",
       "1717  700000.0         4        1.0         1300   1651359     1.0   \n",
       "\n",
       "      waterfront  condition  grade  sqft_above  sqft_basement  yr_built  \\\n",
       "1717         0.0          4      6        1300              0      1920   \n",
       "\n",
       "      yr_renovated  zipcode   density  \n",
       "1717           0.0    98022  0.000787  "
      ]
     },
     "execution_count": 16,
     "metadata": {},
     "output_type": "execute_result"
    }
   ],
   "source": [
    "df.loc[df['sqft_lot']>1500000]"
   ]
  },
  {
   "cell_type": "markdown",
   "metadata": {},
   "source": [
    "Checked on google maps. This is a farm with a farm house. The latitude, longitude, and sf lot (equivalent to 37 acres) are accurate. Decided to keep. "
   ]
  },
  {
   "cell_type": "markdown",
   "metadata": {},
   "source": [
    "---"
   ]
  },
  {
   "cell_type": "markdown",
   "metadata": {},
   "source": [
    "## Determine Colinearity"
   ]
  },
  {
   "cell_type": "code",
   "execution_count": 17,
   "metadata": {},
   "outputs": [
    {
     "data": {
      "text/plain": [
       "Text(0.5, 1.0, 'Graphical Colinearity Test')"
      ]
     },
     "execution_count": 17,
     "metadata": {},
     "output_type": "execute_result"
    },
    {
     "data": {
      "image/png": "[encoded data removed]",
      "text/plain": [
       "<Figure size 432x288 with 1 Axes>"
      ]
     },
     "metadata": {},
     "output_type": "display_data"
    }
   ],
   "source": [
    "import seaborn as sns\n",
    "sns.scatterplot(x=df['sqft_living'], y=df['price'], legend='full').set_title('Living Space Per Sales Price')\n",
    "\n",
    "import seaborn as sns\n",
    "sns.scatterplot(x=df['sqft_above'], y=df['price']).set_title('Graphical Colinearity Test')\n",
    "\n",
    "#df.plot.scatter(x='sqft_living', y='price')"
   ]
  },
  {
   "cell_type": "code",
   "execution_count": 18,
   "metadata": {},
   "outputs": [
    {
     "data": {
      "text/plain": [
       "Text(0.5, 1.0, 'Bathrooms Versus Price')"
      ]
     },
     "execution_count": 18,
     "metadata": {},
     "output_type": "execute_result"
    },
    {
     "data": {
      "image/png": "[encoded data removed]",
      "text/plain": [
       "<Figure size 432x288 with 1 Axes>"
      ]
     },
     "metadata": {},
     "output_type": "display_data"
    }
   ],
   "source": [
    "import seaborn as sns\n",
    "sns.scatterplot(x=df['bathrooms'], y=df['price']).set_title('Bathrooms Versus Price')"
   ]
  },
  {
   "cell_type": "markdown",
   "metadata": {},
   "source": [
    "Conclusion: sqft_above and sqft_living are colinear. Remove sqft_above."
   ]
  },
  {
   "cell_type": "code",
   "execution_count": 19,
   "metadata": {},
   "outputs": [
    {
     "data": {
      "text/html": [
       "<div>\n",
       "<style scoped>\n",
       "    .dataframe tbody tr th:only-of-type {\n",
       "        vertical-align: middle;\n",
       "    }\n",
       "\n",
       "    .dataframe tbody tr th {\n",
       "        vertical-align: top;\n",
       "    }\n",
       "\n",
       "    .dataframe thead th {\n",
       "        text-align: right;\n",
       "    }\n",
       "</style>\n",
       "<table border=\"1\" class=\"dataframe\">\n",
       "  <thead>\n",
       "    <tr style=\"text-align: right;\">\n",
       "      <th></th>\n",
       "      <th>bedrooms</th>\n",
       "      <th>bathrooms</th>\n",
       "      <th>sqft_living</th>\n",
       "      <th>sqft_lot</th>\n",
       "      <th>floors</th>\n",
       "      <th>waterfront</th>\n",
       "      <th>condition</th>\n",
       "      <th>grade</th>\n",
       "      <th>sqft_above</th>\n",
       "      <th>sqft_basement</th>\n",
       "      <th>yr_built</th>\n",
       "      <th>yr_renovated</th>\n",
       "      <th>zipcode</th>\n",
       "      <th>density</th>\n",
       "    </tr>\n",
       "  </thead>\n",
       "  <tbody>\n",
       "    <tr>\n",
       "      <td>bedrooms</td>\n",
       "      <td>1.000000</td>\n",
       "      <td>0.530981</td>\n",
       "      <td>0.594891</td>\n",
       "      <td>0.030583</td>\n",
       "      <td>0.190085</td>\n",
       "      <td>0.000041</td>\n",
       "      <td>0.020626</td>\n",
       "      <td>0.371227</td>\n",
       "      <td>0.495239</td>\n",
       "      <td>0.309213</td>\n",
       "      <td>0.164936</td>\n",
       "      <td>0.019164</td>\n",
       "      <td>-0.155948</td>\n",
       "      <td>0.031102</td>\n",
       "    </tr>\n",
       "    <tr>\n",
       "      <td>bathrooms</td>\n",
       "      <td>0.530981</td>\n",
       "      <td>1.000000</td>\n",
       "      <td>0.755768</td>\n",
       "      <td>0.085007</td>\n",
       "      <td>0.508007</td>\n",
       "      <td>0.068291</td>\n",
       "      <td>-0.127895</td>\n",
       "      <td>0.667539</td>\n",
       "      <td>0.687759</td>\n",
       "      <td>0.282684</td>\n",
       "      <td>0.508486</td>\n",
       "      <td>0.047146</td>\n",
       "      <td>-0.202068</td>\n",
       "      <td>0.287252</td>\n",
       "    </tr>\n",
       "    <tr>\n",
       "      <td>sqft_living</td>\n",
       "      <td>0.594891</td>\n",
       "      <td>0.755768</td>\n",
       "      <td>1.000000</td>\n",
       "      <td>0.172985</td>\n",
       "      <td>0.358311</td>\n",
       "      <td>0.111725</td>\n",
       "      <td>-0.059165</td>\n",
       "      <td>0.764472</td>\n",
       "      <td>0.877784</td>\n",
       "      <td>0.434627</td>\n",
       "      <td>0.319131</td>\n",
       "      <td>0.048497</td>\n",
       "      <td>-0.195899</td>\n",
       "      <td>0.077913</td>\n",
       "    </tr>\n",
       "  </tbody>\n",
       "</table>\n",
       "</div>"
      ],
      "text/plain": [
       "             bedrooms  bathrooms  sqft_living  sqft_lot    floors  waterfront  \\\n",
       "bedrooms     1.000000   0.530981     0.594891  0.030583  0.190085    0.000041   \n",
       "bathrooms    0.530981   1.000000     0.755768  0.085007  0.508007    0.068291   \n",
       "sqft_living  0.594891   0.755768     1.000000  0.172985  0.358311    0.111725   \n",
       "\n",
       "             condition     grade  sqft_above  sqft_basement  yr_built  \\\n",
       "bedrooms      0.020626  0.371227    0.495239       0.309213  0.164936   \n",
       "bathrooms    -0.127895  0.667539    0.687759       0.282684  0.508486   \n",
       "sqft_living  -0.059165  0.764472    0.877784       0.434627  0.319131   \n",
       "\n",
       "             yr_renovated   zipcode   density  \n",
       "bedrooms         0.019164 -0.155948  0.031102  \n",
       "bathrooms        0.047146 -0.202068  0.287252  \n",
       "sqft_living      0.048497 -0.195899  0.077913  "
      ]
     },
     "execution_count": 19,
     "metadata": {},
     "output_type": "execute_result"
    }
   ],
   "source": [
    "#correlation matrix\n",
    "df_ind = df.drop(columns = 'price')\n",
    "df_corr = df_ind.corr()\n",
    "df_corr.head(3)"
   ]
  },
  {
   "cell_type": "markdown",
   "metadata": {},
   "source": [
    "- correlations take a value between -1 and 1, -1 being a perfectly negative linear relationship, and +1 a perfectly positive linear relationship."
   ]
  },
  {
   "cell_type": "code",
   "execution_count": 20,
   "metadata": {},
   "outputs": [
    {
     "data": {
      "text/html": [
       "<div>\n",
       "<style scoped>\n",
       "    .dataframe tbody tr th:only-of-type {\n",
       "        vertical-align: middle;\n",
       "    }\n",
       "\n",
       "    .dataframe tbody tr th {\n",
       "        vertical-align: top;\n",
       "    }\n",
       "\n",
       "    .dataframe thead th {\n",
       "        text-align: right;\n",
       "    }\n",
       "</style>\n",
       "<table border=\"1\" class=\"dataframe\">\n",
       "  <thead>\n",
       "    <tr style=\"text-align: right;\">\n",
       "      <th></th>\n",
       "      <th>cc</th>\n",
       "    </tr>\n",
       "    <tr>\n",
       "      <th>pairs</th>\n",
       "      <th></th>\n",
       "    </tr>\n",
       "  </thead>\n",
       "  <tbody>\n",
       "    <tr>\n",
       "      <td>(bedrooms, bedrooms)</td>\n",
       "      <td>1.000000</td>\n",
       "    </tr>\n",
       "    <tr>\n",
       "      <td>(grade, sqft_above)</td>\n",
       "      <td>0.945977</td>\n",
       "    </tr>\n",
       "    <tr>\n",
       "      <td>(sqft_living, sqft_above)</td>\n",
       "      <td>0.924974</td>\n",
       "    </tr>\n",
       "    <tr>\n",
       "      <td>(sqft_living, grade)</td>\n",
       "      <td>0.919823</td>\n",
       "    </tr>\n",
       "    <tr>\n",
       "      <td>(grade, bathrooms)</td>\n",
       "      <td>0.919236</td>\n",
       "    </tr>\n",
       "    <tr>\n",
       "      <td>...</td>\n",
       "      <td>...</td>\n",
       "    </tr>\n",
       "    <tr>\n",
       "      <td>(waterfront, condition)</td>\n",
       "      <td>0.026929</td>\n",
       "    </tr>\n",
       "    <tr>\n",
       "      <td>(sqft_living, density)</td>\n",
       "      <td>0.020489</td>\n",
       "    </tr>\n",
       "    <tr>\n",
       "      <td>(zipcode, waterfront)</td>\n",
       "      <td>0.018028</td>\n",
       "    </tr>\n",
       "    <tr>\n",
       "      <td>(sqft_basement, waterfront)</td>\n",
       "      <td>0.016157</td>\n",
       "    </tr>\n",
       "    <tr>\n",
       "      <td>(sqft_basement, grade)</td>\n",
       "      <td>0.006305</td>\n",
       "    </tr>\n",
       "  </tbody>\n",
       "</table>\n",
       "<p>92 rows × 1 columns</p>\n",
       "</div>"
      ],
      "text/plain": [
       "                                   cc\n",
       "pairs                                \n",
       "(bedrooms, bedrooms)         1.000000\n",
       "(grade, sqft_above)          0.945977\n",
       "(sqft_living, sqft_above)    0.924974\n",
       "(sqft_living, grade)         0.919823\n",
       "(grade, bathrooms)           0.919236\n",
       "...                               ...\n",
       "(waterfront, condition)      0.026929\n",
       "(sqft_living, density)       0.020489\n",
       "(zipcode, waterfront)        0.018028\n",
       "(sqft_basement, waterfront)  0.016157\n",
       "(sqft_basement, grade)       0.006305\n",
       "\n",
       "[92 rows x 1 columns]"
      ]
     },
     "execution_count": 20,
     "metadata": {},
     "output_type": "execute_result"
    }
   ],
   "source": [
    "df_corr = df_corr.corr().abs().stack().reset_index().sort_values(0, ascending=False)\n",
    "\n",
    "df_corr['pairs'] = list(zip(df_corr.level_0, df_corr.level_1))\n",
    "\n",
    "df_corr.set_index(['pairs'], inplace=True)\n",
    "\n",
    "df_corr.drop(columns=['level_1', 'level_0'], inplace=True)\n",
    "\n",
    "df_corr.columns = ['cc']\n",
    "\n",
    "df_corr.drop_duplicates(inplace=True)\n",
    "\n",
    "df_corr"
   ]
  },
  {
   "cell_type": "code",
   "execution_count": 21,
   "metadata": {},
   "outputs": [
    {
     "data": {
      "text/html": [
       "<div>\n",
       "<style scoped>\n",
       "    .dataframe tbody tr th:only-of-type {\n",
       "        vertical-align: middle;\n",
       "    }\n",
       "\n",
       "    .dataframe tbody tr th {\n",
       "        vertical-align: top;\n",
       "    }\n",
       "\n",
       "    .dataframe thead th {\n",
       "        text-align: right;\n",
       "    }\n",
       "</style>\n",
       "<table border=\"1\" class=\"dataframe\">\n",
       "  <thead>\n",
       "    <tr style=\"text-align: right;\">\n",
       "      <th></th>\n",
       "      <th>cc</th>\n",
       "    </tr>\n",
       "    <tr>\n",
       "      <th>pairs</th>\n",
       "      <th></th>\n",
       "    </tr>\n",
       "  </thead>\n",
       "  <tbody>\n",
       "    <tr>\n",
       "      <td>(grade, sqft_above)</td>\n",
       "      <td>0.945977</td>\n",
       "    </tr>\n",
       "    <tr>\n",
       "      <td>(sqft_living, sqft_above)</td>\n",
       "      <td>0.924974</td>\n",
       "    </tr>\n",
       "    <tr>\n",
       "      <td>(sqft_living, grade)</td>\n",
       "      <td>0.919823</td>\n",
       "    </tr>\n",
       "    <tr>\n",
       "      <td>(grade, bathrooms)</td>\n",
       "      <td>0.919236</td>\n",
       "    </tr>\n",
       "    <tr>\n",
       "      <td>(sqft_living, bathrooms)</td>\n",
       "      <td>0.912745</td>\n",
       "    </tr>\n",
       "    <tr>\n",
       "      <td>(bathrooms, sqft_above)</td>\n",
       "      <td>0.902962</td>\n",
       "    </tr>\n",
       "    <tr>\n",
       "      <td>(bedrooms, sqft_living)</td>\n",
       "      <td>0.820150</td>\n",
       "    </tr>\n",
       "    <tr>\n",
       "      <td>(floors, yr_built)</td>\n",
       "      <td>0.806781</td>\n",
       "    </tr>\n",
       "    <tr>\n",
       "      <td>(yr_built, bathrooms)</td>\n",
       "      <td>0.776215</td>\n",
       "    </tr>\n",
       "    <tr>\n",
       "      <td>(bedrooms, bathrooms)</td>\n",
       "      <td>0.752142</td>\n",
       "    </tr>\n",
       "  </tbody>\n",
       "</table>\n",
       "</div>"
      ],
      "text/plain": [
       "                                 cc\n",
       "pairs                              \n",
       "(grade, sqft_above)        0.945977\n",
       "(sqft_living, sqft_above)  0.924974\n",
       "(sqft_living, grade)       0.919823\n",
       "(grade, bathrooms)         0.919236\n",
       "(sqft_living, bathrooms)   0.912745\n",
       "(bathrooms, sqft_above)    0.902962\n",
       "(bedrooms, sqft_living)    0.820150\n",
       "(floors, yr_built)         0.806781\n",
       "(yr_built, bathrooms)      0.776215\n",
       "(bedrooms, bathrooms)      0.752142"
      ]
     },
     "execution_count": 21,
     "metadata": {},
     "output_type": "execute_result"
    }
   ],
   "source": [
    "#this would be high correlation\n",
    "df_corr[(df_corr.cc>.75) & (df_corr.cc<1)]"
   ]
  },
  {
   "cell_type": "markdown",
   "metadata": {},
   "source": [
    "#### We chose to remove sqft_above, grade, and yr_built due to being highly correlated."
   ]
  },
  {
   "cell_type": "code",
   "execution_count": 22,
   "metadata": {},
   "outputs": [],
   "source": [
    "df.drop(columns = ['sqft_above', 'grade', 'yr_built'], inplace = True)"
   ]
  },
  {
   "cell_type": "code",
   "execution_count": 23,
   "metadata": {},
   "outputs": [
    {
     "data": {
      "image/png": "[encoded data removed]",
      "text/plain": [
       "<Figure size 432x288 with 2 Axes>"
      ]
     },
     "metadata": {},
     "output_type": "display_data"
    }
   ],
   "source": [
    "# correlation heat map\n",
    "sns.heatmap(df_ind.corr(), center=1, cmap='YlGnBu');"
   ]
  },
  {
   "cell_type": "markdown",
   "metadata": {},
   "source": [
    "The heatmap confirms that sqft_living, sqft_above, and bathrooms are correlated. So we should remove 2 of 3 variables."
   ]
  },
  {
   "cell_type": "markdown",
   "metadata": {},
   "source": [
    "### Use Dummy Variables for Categorical Variables"
   ]
  },
  {
   "cell_type": "markdown",
   "metadata": {},
   "source": [
    "#### Identifying Categorical Variables"
   ]
  },
  {
   "cell_type": "code",
   "execution_count": 24,
   "metadata": {},
   "outputs": [
    {
     "data": {
      "image/png": "[encoded data removed]",
      "text/plain": [
       "<Figure size 2160x360 with 5 Axes>"
      ]
     },
     "metadata": {},
     "output_type": "display_data"
    }
   ],
   "source": [
    "# visualize categorical variables with scatter plots\n",
    "categorical = df[['floors', 'waterfront', 'condition', 'yr_renovated', 'zipcode', 'price']]\n",
    "\n",
    "fig, axes = plt.subplots(nrows=1, ncols=5, figsize=(30,5))\n",
    "\n",
    "for xcol, ax in zip(['floors', 'waterfront', 'condition', 'yr_renovated', 'zipcode'], axes):\n",
    "    categorical.plot(kind='scatter', x=xcol, y='price', ax=ax, color='b')"
   ]
  },
  {
   "cell_type": "code",
   "execution_count": 25,
   "metadata": {},
   "outputs": [
    {
     "data": {
      "text/html": [
       "<div>\n",
       "<style scoped>\n",
       "    .dataframe tbody tr th:only-of-type {\n",
       "        vertical-align: middle;\n",
       "    }\n",
       "\n",
       "    .dataframe tbody tr th {\n",
       "        vertical-align: top;\n",
       "    }\n",
       "\n",
       "    .dataframe thead th {\n",
       "        text-align: right;\n",
       "    }\n",
       "</style>\n",
       "<table border=\"1\" class=\"dataframe\">\n",
       "  <thead>\n",
       "    <tr style=\"text-align: right;\">\n",
       "      <th></th>\n",
       "      <th>price</th>\n",
       "      <th>bedrooms</th>\n",
       "      <th>bathrooms</th>\n",
       "      <th>sqft_living</th>\n",
       "      <th>sqft_lot</th>\n",
       "      <th>floors</th>\n",
       "      <th>waterfront</th>\n",
       "      <th>condition</th>\n",
       "      <th>sqft_basement</th>\n",
       "      <th>yr_renovated</th>\n",
       "      <th>zipcode</th>\n",
       "      <th>density</th>\n",
       "    </tr>\n",
       "  </thead>\n",
       "  <tbody>\n",
       "    <tr>\n",
       "      <td>1</td>\n",
       "      <td>538000.0</td>\n",
       "      <td>3</td>\n",
       "      <td>2.25</td>\n",
       "      <td>2570</td>\n",
       "      <td>7242</td>\n",
       "      <td>2.0</td>\n",
       "      <td>0.0</td>\n",
       "      <td>3</td>\n",
       "      <td>400</td>\n",
       "      <td>1991.0</td>\n",
       "      <td>98125</td>\n",
       "      <td>0.354874</td>\n",
       "    </tr>\n",
       "    <tr>\n",
       "      <td>2</td>\n",
       "      <td>180000.0</td>\n",
       "      <td>2</td>\n",
       "      <td>1.00</td>\n",
       "      <td>770</td>\n",
       "      <td>10000</td>\n",
       "      <td>1.0</td>\n",
       "      <td>0.0</td>\n",
       "      <td>3</td>\n",
       "      <td>0</td>\n",
       "      <td>NaN</td>\n",
       "      <td>98028</td>\n",
       "      <td>0.077000</td>\n",
       "    </tr>\n",
       "    <tr>\n",
       "      <td>3</td>\n",
       "      <td>604000.0</td>\n",
       "      <td>4</td>\n",
       "      <td>3.00</td>\n",
       "      <td>1960</td>\n",
       "      <td>5000</td>\n",
       "      <td>1.0</td>\n",
       "      <td>0.0</td>\n",
       "      <td>5</td>\n",
       "      <td>910</td>\n",
       "      <td>0.0</td>\n",
       "      <td>98136</td>\n",
       "      <td>0.392000</td>\n",
       "    </tr>\n",
       "    <tr>\n",
       "      <td>4</td>\n",
       "      <td>510000.0</td>\n",
       "      <td>3</td>\n",
       "      <td>2.00</td>\n",
       "      <td>1680</td>\n",
       "      <td>8080</td>\n",
       "      <td>1.0</td>\n",
       "      <td>0.0</td>\n",
       "      <td>3</td>\n",
       "      <td>0</td>\n",
       "      <td>0.0</td>\n",
       "      <td>98074</td>\n",
       "      <td>0.207921</td>\n",
       "    </tr>\n",
       "    <tr>\n",
       "      <td>5</td>\n",
       "      <td>1230000.0</td>\n",
       "      <td>4</td>\n",
       "      <td>4.50</td>\n",
       "      <td>5420</td>\n",
       "      <td>101930</td>\n",
       "      <td>1.0</td>\n",
       "      <td>0.0</td>\n",
       "      <td>3</td>\n",
       "      <td>1530</td>\n",
       "      <td>0.0</td>\n",
       "      <td>98053</td>\n",
       "      <td>0.053174</td>\n",
       "    </tr>\n",
       "  </tbody>\n",
       "</table>\n",
       "</div>"
      ],
      "text/plain": [
       "       price  bedrooms  bathrooms  sqft_living  sqft_lot  floors  waterfront  \\\n",
       "1   538000.0         3       2.25         2570      7242     2.0         0.0   \n",
       "2   180000.0         2       1.00          770     10000     1.0         0.0   \n",
       "3   604000.0         4       3.00         1960      5000     1.0         0.0   \n",
       "4   510000.0         3       2.00         1680      8080     1.0         0.0   \n",
       "5  1230000.0         4       4.50         5420    101930     1.0         0.0   \n",
       "\n",
       "   condition  sqft_basement  yr_renovated  zipcode   density  \n",
       "1          3            400        1991.0    98125  0.354874  \n",
       "2          3              0           NaN    98028  0.077000  \n",
       "3          5            910           0.0    98136  0.392000  \n",
       "4          3              0           0.0    98074  0.207921  \n",
       "5          3           1530           0.0    98053  0.053174  "
      ]
     },
     "execution_count": 25,
     "metadata": {},
     "output_type": "execute_result"
    }
   ],
   "source": [
    "df.head()"
   ]
  },
  {
   "cell_type": "code",
   "execution_count": 26,
   "metadata": {},
   "outputs": [],
   "source": [
    "# Create new columns to simplify categorical variables\n",
    "\n",
    "# condition: >= 3 is 'Good', < 3 is 'Poor'\n",
    "df['condition_cat'] = np.where(df.condition >= 3, 'Good', 'Poor')\n",
    "\n",
    "# yr_renovated: 0 is 'Not Renovated', < 2000 is 'Prior to 2000', >= 2000 is '2000 to Present'\n",
    "df['renovated_cat'] = np.where(df.yr_renovated >= 2000, 'Recently_Renovated', (np.where((df.yr_renovated < 2000) \n",
    "                    & (df.yr_renovated > 0), 'Prior_to_2000', 'Not_Renovated')))\n",
    "\n",
    "# The zipcodes for \"urban\" are the zip codes found in Seattle, WA\n",
    "urban = [98177, 98117, 98107, 98199, 98119, 98109, 98103, 98133, 98125, 98155, 98115,\n",
    "         98105, 98112, 98102, 98122, 98144, 98108, 98118, 98116, 98121, 98101, 98154, \n",
    "         98104, 98134, 98106, 98126, 98136, 98146, 98168, 98178]\n",
    "\n",
    "df['zipcode_cat'] = ['urban' if x in urban else 'rural' for x in df['zipcode']]\n",
    "\n",
    "# density binning\n",
    "df['density_cat'] = np.where(df.density >= 3, 'high_density',\n",
    "                             (np.where((df.density < 3) & (df.density >= 1),\n",
    "                                       'mid_density', 'low_density')))\n",
    "\n",
    "# bedrooms binning\n",
    "df['bed_cat'] = np.where(df.bedrooms >= 4, 'beds_4+', \n",
    "                            (np.where((df.bedrooms >= 3) & (df.bedrooms < 4), 'beds_3',\n",
    "                         (np.where((df.bedrooms >= 2) & (df.bedrooms < 3), 'beds_2', 'beds_1')))))"
   ]
  },
  {
   "cell_type": "code",
   "execution_count": 27,
   "metadata": {},
   "outputs": [
    {
     "data": {
      "text/html": [
       "<div>\n",
       "<style scoped>\n",
       "    .dataframe tbody tr th:only-of-type {\n",
       "        vertical-align: middle;\n",
       "    }\n",
       "\n",
       "    .dataframe tbody tr th {\n",
       "        vertical-align: top;\n",
       "    }\n",
       "\n",
       "    .dataframe thead th {\n",
       "        text-align: right;\n",
       "    }\n",
       "</style>\n",
       "<table border=\"1\" class=\"dataframe\">\n",
       "  <thead>\n",
       "    <tr style=\"text-align: right;\">\n",
       "      <th></th>\n",
       "      <th>price</th>\n",
       "      <th>bedrooms</th>\n",
       "      <th>bathrooms</th>\n",
       "      <th>sqft_living</th>\n",
       "      <th>sqft_lot</th>\n",
       "      <th>floors</th>\n",
       "      <th>waterfront</th>\n",
       "      <th>condition</th>\n",
       "      <th>sqft_basement</th>\n",
       "      <th>yr_renovated</th>\n",
       "      <th>zipcode</th>\n",
       "      <th>density</th>\n",
       "      <th>condition_cat</th>\n",
       "      <th>renovated_cat</th>\n",
       "      <th>zipcode_cat</th>\n",
       "      <th>density_cat</th>\n",
       "      <th>bed_cat</th>\n",
       "    </tr>\n",
       "  </thead>\n",
       "  <tbody>\n",
       "    <tr>\n",
       "      <td>1</td>\n",
       "      <td>538000.0</td>\n",
       "      <td>3</td>\n",
       "      <td>2.25</td>\n",
       "      <td>2570</td>\n",
       "      <td>7242</td>\n",
       "      <td>2.0</td>\n",
       "      <td>0.0</td>\n",
       "      <td>3</td>\n",
       "      <td>400</td>\n",
       "      <td>1991.0</td>\n",
       "      <td>98125</td>\n",
       "      <td>0.354874</td>\n",
       "      <td>Good</td>\n",
       "      <td>Prior_to_2000</td>\n",
       "      <td>urban</td>\n",
       "      <td>low_density</td>\n",
       "      <td>beds_3</td>\n",
       "    </tr>\n",
       "    <tr>\n",
       "      <td>2</td>\n",
       "      <td>180000.0</td>\n",
       "      <td>2</td>\n",
       "      <td>1.00</td>\n",
       "      <td>770</td>\n",
       "      <td>10000</td>\n",
       "      <td>1.0</td>\n",
       "      <td>0.0</td>\n",
       "      <td>3</td>\n",
       "      <td>0</td>\n",
       "      <td>NaN</td>\n",
       "      <td>98028</td>\n",
       "      <td>0.077000</td>\n",
       "      <td>Good</td>\n",
       "      <td>Not_Renovated</td>\n",
       "      <td>rural</td>\n",
       "      <td>low_density</td>\n",
       "      <td>beds_2</td>\n",
       "    </tr>\n",
       "    <tr>\n",
       "      <td>3</td>\n",
       "      <td>604000.0</td>\n",
       "      <td>4</td>\n",
       "      <td>3.00</td>\n",
       "      <td>1960</td>\n",
       "      <td>5000</td>\n",
       "      <td>1.0</td>\n",
       "      <td>0.0</td>\n",
       "      <td>5</td>\n",
       "      <td>910</td>\n",
       "      <td>0.0</td>\n",
       "      <td>98136</td>\n",
       "      <td>0.392000</td>\n",
       "      <td>Good</td>\n",
       "      <td>Not_Renovated</td>\n",
       "      <td>urban</td>\n",
       "      <td>low_density</td>\n",
       "      <td>beds_4+</td>\n",
       "    </tr>\n",
       "    <tr>\n",
       "      <td>4</td>\n",
       "      <td>510000.0</td>\n",
       "      <td>3</td>\n",
       "      <td>2.00</td>\n",
       "      <td>1680</td>\n",
       "      <td>8080</td>\n",
       "      <td>1.0</td>\n",
       "      <td>0.0</td>\n",
       "      <td>3</td>\n",
       "      <td>0</td>\n",
       "      <td>0.0</td>\n",
       "      <td>98074</td>\n",
       "      <td>0.207921</td>\n",
       "      <td>Good</td>\n",
       "      <td>Not_Renovated</td>\n",
       "      <td>rural</td>\n",
       "      <td>low_density</td>\n",
       "      <td>beds_3</td>\n",
       "    </tr>\n",
       "    <tr>\n",
       "      <td>5</td>\n",
       "      <td>1230000.0</td>\n",
       "      <td>4</td>\n",
       "      <td>4.50</td>\n",
       "      <td>5420</td>\n",
       "      <td>101930</td>\n",
       "      <td>1.0</td>\n",
       "      <td>0.0</td>\n",
       "      <td>3</td>\n",
       "      <td>1530</td>\n",
       "      <td>0.0</td>\n",
       "      <td>98053</td>\n",
       "      <td>0.053174</td>\n",
       "      <td>Good</td>\n",
       "      <td>Not_Renovated</td>\n",
       "      <td>rural</td>\n",
       "      <td>low_density</td>\n",
       "      <td>beds_4+</td>\n",
       "    </tr>\n",
       "  </tbody>\n",
       "</table>\n",
       "</div>"
      ],
      "text/plain": [
       "       price  bedrooms  bathrooms  sqft_living  sqft_lot  floors  waterfront  \\\n",
       "1   538000.0         3       2.25         2570      7242     2.0         0.0   \n",
       "2   180000.0         2       1.00          770     10000     1.0         0.0   \n",
       "3   604000.0         4       3.00         1960      5000     1.0         0.0   \n",
       "4   510000.0         3       2.00         1680      8080     1.0         0.0   \n",
       "5  1230000.0         4       4.50         5420    101930     1.0         0.0   \n",
       "\n",
       "   condition  sqft_basement  yr_renovated  zipcode   density condition_cat  \\\n",
       "1          3            400        1991.0    98125  0.354874          Good   \n",
       "2          3              0           NaN    98028  0.077000          Good   \n",
       "3          5            910           0.0    98136  0.392000          Good   \n",
       "4          3              0           0.0    98074  0.207921          Good   \n",
       "5          3           1530           0.0    98053  0.053174          Good   \n",
       "\n",
       "   renovated_cat zipcode_cat  density_cat  bed_cat  \n",
       "1  Prior_to_2000       urban  low_density   beds_3  \n",
       "2  Not_Renovated       rural  low_density   beds_2  \n",
       "3  Not_Renovated       urban  low_density  beds_4+  \n",
       "4  Not_Renovated       rural  low_density   beds_3  \n",
       "5  Not_Renovated       rural  low_density  beds_4+  "
      ]
     },
     "execution_count": 27,
     "metadata": {},
     "output_type": "execute_result"
    }
   ],
   "source": [
    "df.head()"
   ]
  },
  {
   "cell_type": "markdown",
   "metadata": {},
   "source": [
    "## Prepare the data for the Regression Model"
   ]
  },
  {
   "cell_type": "markdown",
   "metadata": {},
   "source": [
    "Log transformation and standardization were explored as methods to reduce heteroscedasticity in the residual plot, however neither yielded an improvement in model accuracy, so they were not used. "
   ]
  },
  {
   "cell_type": "markdown",
   "metadata": {},
   "source": [
    "#### One-Hot Encoding of Dummy Variables"
   ]
  },
  {
   "cell_type": "code",
   "execution_count": 28,
   "metadata": {},
   "outputs": [],
   "source": [
    "df_num = df.drop(\"price\", axis=1) # drop labels for training set\n",
    "y = df[\"price\"].copy()"
   ]
  },
  {
   "cell_type": "code",
   "execution_count": 29,
   "metadata": {},
   "outputs": [],
   "source": [
    "try:\n",
    "    from sklearn.impute import SimpleImputer # Scikit-Learn 0.20+\n",
    "except ImportError:\n",
    "    from sklearn.preprocessing import Imputer as SimpleImputer\n",
    "\n",
    "imputer = SimpleImputer(strategy=\"median\");"
   ]
  },
  {
   "cell_type": "code",
   "execution_count": 30,
   "metadata": {},
   "outputs": [],
   "source": [
    "df_num = df_num.drop(columns = ['bedrooms', 'condition', 'yr_renovated', 'zipcode', 'density', \n",
    "                                'condition_cat', 'renovated_cat', 'zipcode_cat', 'density_cat', 'bed_cat'], axis=1)"
   ]
  },
  {
   "cell_type": "code",
   "execution_count": 31,
   "metadata": {},
   "outputs": [
    {
     "data": {
      "text/plain": [
       "SimpleImputer(add_indicator=False, copy=True, fill_value=None,\n",
       "              missing_values=nan, strategy='median', verbose=0)"
      ]
     },
     "execution_count": 31,
     "metadata": {},
     "output_type": "execute_result"
    }
   ],
   "source": [
    "imputer.fit(df_num)"
   ]
  },
  {
   "cell_type": "code",
   "execution_count": 32,
   "metadata": {},
   "outputs": [],
   "source": [
    "X = imputer.transform(df_num)"
   ]
  },
  {
   "cell_type": "code",
   "execution_count": 33,
   "metadata": {},
   "outputs": [],
   "source": [
    "condition_cat = df[['condition_cat']]\n",
    "renovated_cat = df[['renovated_cat']]\n",
    "zipcode_cat = df[['zipcode_cat']]\n",
    "density_cat = df[['density_cat']]\n",
    "bed_cat = df[['bed_cat']]"
   ]
  },
  {
   "cell_type": "code",
   "execution_count": 34,
   "metadata": {},
   "outputs": [],
   "source": [
    "try:\n",
    "    from sklearn.preprocessing import OrdinalEncoder # just to raise an ImportError if Scikit-Learn < 0.20\n",
    "    from sklearn.preprocessing import OneHotEncoder\n",
    "except ImportError:\n",
    "    from future_encoders import OneHotEncoder # Scikit-Learn < 0.20\n",
    "    \n",
    "cat_encoder = OneHotEncoder()"
   ]
  },
  {
   "cell_type": "code",
   "execution_count": 35,
   "metadata": {},
   "outputs": [],
   "source": [
    "condition_cat_1hot = cat_encoder.fit_transform(condition_cat)\n",
    "condition_cats = cat_encoder.categories_[0].tolist()\n",
    "\n",
    "renovated_cat_1hot = cat_encoder.fit_transform(renovated_cat)\n",
    "renovated_cats = cat_encoder.categories_[0].tolist()\n",
    "\n",
    "zipcode_cat_1hot = cat_encoder.fit_transform(zipcode_cat)\n",
    "zipcode_cats = cat_encoder.categories_[0].tolist()\n",
    "\n",
    "density_cat_1hot = cat_encoder.fit_transform(density_cat)\n",
    "density_cats = cat_encoder.categories_[0].tolist()\n",
    "\n",
    "bed_cat_1hot = cat_encoder.fit_transform(bed_cat)\n",
    "bed_cats = cat_encoder.categories_[0].tolist()"
   ]
  },
  {
   "cell_type": "code",
   "execution_count": 36,
   "metadata": {},
   "outputs": [],
   "source": [
    "# X represents all of the independent variables \n",
    "X = np.c_[(X, condition_cat_1hot.toarray(), renovated_cat_1hot.toarray(), zipcode_cat_1hot.toarray(), density_cat_1hot.toarray(), bed_cat_1hot.toarray())]"
   ]
  },
  {
   "cell_type": "code",
   "execution_count": 37,
   "metadata": {},
   "outputs": [
    {
     "data": {
      "text/html": [
       "<div>\n",
       "<style scoped>\n",
       "    .dataframe tbody tr th:only-of-type {\n",
       "        vertical-align: middle;\n",
       "    }\n",
       "\n",
       "    .dataframe tbody tr th {\n",
       "        vertical-align: top;\n",
       "    }\n",
       "\n",
       "    .dataframe thead th {\n",
       "        text-align: right;\n",
       "    }\n",
       "</style>\n",
       "<table border=\"1\" class=\"dataframe\">\n",
       "  <thead>\n",
       "    <tr style=\"text-align: right;\">\n",
       "      <th></th>\n",
       "      <th>price</th>\n",
       "      <th>bathrooms</th>\n",
       "      <th>sqft_living</th>\n",
       "      <th>sqft_lot</th>\n",
       "      <th>floors</th>\n",
       "      <th>waterfront</th>\n",
       "      <th>sqft_basement</th>\n",
       "      <th>Good</th>\n",
       "      <th>Poor</th>\n",
       "      <th>Not_Renovated</th>\n",
       "      <th>...</th>\n",
       "      <th>Recently_Renovated</th>\n",
       "      <th>rural</th>\n",
       "      <th>urban</th>\n",
       "      <th>high_density</th>\n",
       "      <th>low_density</th>\n",
       "      <th>mid_density</th>\n",
       "      <th>beds_1</th>\n",
       "      <th>beds_2</th>\n",
       "      <th>beds_3</th>\n",
       "      <th>beds_4+</th>\n",
       "    </tr>\n",
       "  </thead>\n",
       "  <tbody>\n",
       "    <tr>\n",
       "      <td>1</td>\n",
       "      <td>538000.0</td>\n",
       "      <td>2.25</td>\n",
       "      <td>2570.0</td>\n",
       "      <td>7242.0</td>\n",
       "      <td>2.0</td>\n",
       "      <td>0.0</td>\n",
       "      <td>400.0</td>\n",
       "      <td>1.0</td>\n",
       "      <td>0.0</td>\n",
       "      <td>0.0</td>\n",
       "      <td>...</td>\n",
       "      <td>0.0</td>\n",
       "      <td>0.0</td>\n",
       "      <td>1.0</td>\n",
       "      <td>0.0</td>\n",
       "      <td>1.0</td>\n",
       "      <td>0.0</td>\n",
       "      <td>0.0</td>\n",
       "      <td>0.0</td>\n",
       "      <td>1.0</td>\n",
       "      <td>0.0</td>\n",
       "    </tr>\n",
       "    <tr>\n",
       "      <td>2</td>\n",
       "      <td>180000.0</td>\n",
       "      <td>1.00</td>\n",
       "      <td>770.0</td>\n",
       "      <td>10000.0</td>\n",
       "      <td>1.0</td>\n",
       "      <td>0.0</td>\n",
       "      <td>0.0</td>\n",
       "      <td>1.0</td>\n",
       "      <td>0.0</td>\n",
       "      <td>1.0</td>\n",
       "      <td>...</td>\n",
       "      <td>0.0</td>\n",
       "      <td>1.0</td>\n",
       "      <td>0.0</td>\n",
       "      <td>0.0</td>\n",
       "      <td>1.0</td>\n",
       "      <td>0.0</td>\n",
       "      <td>0.0</td>\n",
       "      <td>1.0</td>\n",
       "      <td>0.0</td>\n",
       "      <td>0.0</td>\n",
       "    </tr>\n",
       "    <tr>\n",
       "      <td>3</td>\n",
       "      <td>604000.0</td>\n",
       "      <td>3.00</td>\n",
       "      <td>1960.0</td>\n",
       "      <td>5000.0</td>\n",
       "      <td>1.0</td>\n",
       "      <td>0.0</td>\n",
       "      <td>910.0</td>\n",
       "      <td>1.0</td>\n",
       "      <td>0.0</td>\n",
       "      <td>1.0</td>\n",
       "      <td>...</td>\n",
       "      <td>0.0</td>\n",
       "      <td>0.0</td>\n",
       "      <td>1.0</td>\n",
       "      <td>0.0</td>\n",
       "      <td>1.0</td>\n",
       "      <td>0.0</td>\n",
       "      <td>0.0</td>\n",
       "      <td>0.0</td>\n",
       "      <td>0.0</td>\n",
       "      <td>1.0</td>\n",
       "    </tr>\n",
       "    <tr>\n",
       "      <td>4</td>\n",
       "      <td>510000.0</td>\n",
       "      <td>2.00</td>\n",
       "      <td>1680.0</td>\n",
       "      <td>8080.0</td>\n",
       "      <td>1.0</td>\n",
       "      <td>0.0</td>\n",
       "      <td>0.0</td>\n",
       "      <td>1.0</td>\n",
       "      <td>0.0</td>\n",
       "      <td>1.0</td>\n",
       "      <td>...</td>\n",
       "      <td>0.0</td>\n",
       "      <td>1.0</td>\n",
       "      <td>0.0</td>\n",
       "      <td>0.0</td>\n",
       "      <td>1.0</td>\n",
       "      <td>0.0</td>\n",
       "      <td>0.0</td>\n",
       "      <td>0.0</td>\n",
       "      <td>1.0</td>\n",
       "      <td>0.0</td>\n",
       "    </tr>\n",
       "    <tr>\n",
       "      <td>5</td>\n",
       "      <td>1230000.0</td>\n",
       "      <td>4.50</td>\n",
       "      <td>5420.0</td>\n",
       "      <td>101930.0</td>\n",
       "      <td>1.0</td>\n",
       "      <td>0.0</td>\n",
       "      <td>1530.0</td>\n",
       "      <td>1.0</td>\n",
       "      <td>0.0</td>\n",
       "      <td>1.0</td>\n",
       "      <td>...</td>\n",
       "      <td>0.0</td>\n",
       "      <td>1.0</td>\n",
       "      <td>0.0</td>\n",
       "      <td>0.0</td>\n",
       "      <td>1.0</td>\n",
       "      <td>0.0</td>\n",
       "      <td>0.0</td>\n",
       "      <td>0.0</td>\n",
       "      <td>0.0</td>\n",
       "      <td>1.0</td>\n",
       "    </tr>\n",
       "  </tbody>\n",
       "</table>\n",
       "<p>5 rows × 21 columns</p>\n",
       "</div>"
      ],
      "text/plain": [
       "       price  bathrooms  sqft_living  sqft_lot  floors  waterfront  \\\n",
       "1   538000.0       2.25       2570.0    7242.0     2.0         0.0   \n",
       "2   180000.0       1.00        770.0   10000.0     1.0         0.0   \n",
       "3   604000.0       3.00       1960.0    5000.0     1.0         0.0   \n",
       "4   510000.0       2.00       1680.0    8080.0     1.0         0.0   \n",
       "5  1230000.0       4.50       5420.0  101930.0     1.0         0.0   \n",
       "\n",
       "   sqft_basement  Good  Poor  Not_Renovated  ...  Recently_Renovated  rural  \\\n",
       "1          400.0   1.0   0.0            0.0  ...                 0.0    0.0   \n",
       "2            0.0   1.0   0.0            1.0  ...                 0.0    1.0   \n",
       "3          910.0   1.0   0.0            1.0  ...                 0.0    0.0   \n",
       "4            0.0   1.0   0.0            1.0  ...                 0.0    1.0   \n",
       "5         1530.0   1.0   0.0            1.0  ...                 0.0    1.0   \n",
       "\n",
       "   urban  high_density  low_density  mid_density  beds_1  beds_2  beds_3  \\\n",
       "1    1.0           0.0          1.0          0.0     0.0     0.0     1.0   \n",
       "2    0.0           0.0          1.0          0.0     0.0     1.0     0.0   \n",
       "3    1.0           0.0          1.0          0.0     0.0     0.0     0.0   \n",
       "4    0.0           0.0          1.0          0.0     0.0     0.0     1.0   \n",
       "5    0.0           0.0          1.0          0.0     0.0     0.0     0.0   \n",
       "\n",
       "   beds_4+  \n",
       "1      0.0  \n",
       "2      0.0  \n",
       "3      1.0  \n",
       "4      0.0  \n",
       "5      1.0  \n",
       "\n",
       "[5 rows x 21 columns]"
      ]
     },
     "execution_count": 37,
     "metadata": {},
     "output_type": "execute_result"
    }
   ],
   "source": [
    "#making a list of columns\n",
    "cols = df_num.columns.tolist() + condition_cats + renovated_cats + zipcode_cats + density_cats + bed_cats\n",
    "\n",
    "df_price = df[['price']].copy()\n",
    "df = pd.DataFrame(X, columns = cols, index = df.index)\n",
    "df = pd.concat([df_price, df], axis=1)\n",
    "df.head()"
   ]
  },
  {
   "cell_type": "markdown",
   "metadata": {},
   "source": [
    "---"
   ]
  },
  {
   "cell_type": "markdown",
   "metadata": {},
   "source": [
    "## Create models and determine which is best"
   ]
  },
  {
   "cell_type": "markdown",
   "metadata": {},
   "source": [
    "### Cross Validation"
   ]
  },
  {
   "cell_type": "code",
   "execution_count": 38,
   "metadata": {},
   "outputs": [],
   "source": [
    "# Creating subset of test data and training data\n",
    "from sklearn.model_selection import train_test_split\n",
    "\n",
    "X_train, X_test, y_train, y_test = train_test_split(X, y, test_size=0.2, random_state=12)\n",
    "df_train, df_test = train_test_split(df, test_size=0.2, random_state=12)\n",
    "\n",
    "X_train = sm.add_constant(X_train)\n",
    "X_test = sm.add_constant(X_test)"
   ]
  },
  {
   "cell_type": "code",
   "execution_count": 39,
   "metadata": {},
   "outputs": [
    {
     "name": "stdout",
     "output_type": "stream",
     "text": [
      "15042 3761 15042 3761\n"
     ]
    }
   ],
   "source": [
    "#verifying the number of observations in each group\n",
    "print(len(X_train), len(X_test), len(y_train), len(y_test))"
   ]
  },
  {
   "cell_type": "markdown",
   "metadata": {},
   "source": [
    "### Creating Model Using Sklearn Linear Regression"
   ]
  },
  {
   "cell_type": "code",
   "execution_count": 40,
   "metadata": {},
   "outputs": [],
   "source": [
    "# Creating the model\n",
    "from sklearn.linear_model import LinearRegression\n",
    "linreg = LinearRegression() #instantiate\n",
    "linreg.fit(X_train, y_train)\n",
    "\n",
    "y_pred_train = linreg.predict(X_train)\n",
    "y_pred_test = linreg.predict(X_test)"
   ]
  },
  {
   "cell_type": "code",
   "execution_count": 41,
   "metadata": {},
   "outputs": [
    {
     "name": "stdout",
     "output_type": "stream",
     "text": [
      "coefficient of determination: 0.6006904846963075\n",
      "intercept: 78466.46746933821\n",
      "slope: [ 0.00000000e+00  1.78296030e+04  3.39913874e+02 -2.95266990e-01\n",
      " -4.49739263e+04  8.51943754e+05 -6.64219966e+01  1.80833910e+04\n",
      " -1.80833910e+04 -6.57874741e+04 -2.24741563e+04  8.82616303e+04\n",
      " -7.81199495e+04  7.81199495e+04  1.30002379e+05 -9.45858455e+04\n",
      " -3.54165335e+04  7.00357561e+04  4.51033214e+04 -2.42240171e+04\n",
      " -9.09150603e+04]\n"
     ]
    }
   ],
   "source": [
    "r_sq = linreg.score(X_train, y_train)\n",
    "print('coefficient of determination:', r_sq)\n",
    "print('intercept:', linreg.intercept_)\n",
    "print('slope:', linreg.coef_)"
   ]
  },
  {
   "cell_type": "code",
   "execution_count": 42,
   "metadata": {},
   "outputs": [],
   "source": [
    "# getting residuals\n",
    "train_residuals = y_pred_train - y_train\n",
    "test_residuals = y_pred_test - y_test"
   ]
  },
  {
   "cell_type": "code",
   "execution_count": 43,
   "metadata": {},
   "outputs": [
    {
     "name": "stdout",
     "output_type": "stream",
     "text": [
      "Train Mean Squared Error: 56088954314.40393\n",
      "Test Mean Squared Error: 57553471570.40009\n"
     ]
    }
   ],
   "source": [
    "# Determine MSE\n",
    "from sklearn.metrics import mean_squared_error\n",
    "\n",
    "train_mse = mean_squared_error(y_train, y_pred_train)\n",
    "test_mse = mean_squared_error(y_test, y_pred_test)\n",
    "print('Train Mean Squared Error:', train_mse)\n",
    "print('Test Mean Squared Error:', test_mse)"
   ]
  },
  {
   "cell_type": "code",
   "execution_count": 44,
   "metadata": {},
   "outputs": [
    {
     "name": "stdout",
     "output_type": "stream",
     "text": [
      "1.026\n"
     ]
    }
   ],
   "source": [
    "print(round(test_mse/train_mse,3))"
   ]
  },
  {
   "cell_type": "markdown",
   "metadata": {},
   "source": [
    "The test MSE is a higher than the train MSE, but only by 3.9%."
   ]
  },
  {
   "cell_type": "code",
   "execution_count": 45,
   "metadata": {},
   "outputs": [
    {
     "data": {
      "image/png": "[encoded data removed]",
      "text/plain": [
       "<Figure size 648x648 with 1 Axes>"
      ]
     },
     "metadata": {},
     "output_type": "display_data"
    }
   ],
   "source": [
    "plt.figure(figsize=(9,9))\n",
    "plt.scatter(y_pred_train, train_residuals, alpha=0.2)\n",
    "plt.hlines(y = 0, xmin = y_pred_train.min(), xmax = y_pred_train.max())\n",
    "plt.title('Residual Plot')\n",
    "plt.xlabel('Predicted Values for Price in Thousands')\n",
    "plt.ylabel('Residuals (errors) for Price')\n",
    "plt.xticks((200000, 400000, 600000, 800000, 1000000, 2000000, 3000000, 4000000), ('200', '400', '600', '800', '1000', '2000', '3000', '4000'))\n",
    "plt.show()"
   ]
  },
  {
   "cell_type": "markdown",
   "metadata": {},
   "source": [
    "The residual plot shows heteroscedasticity. This shows that the model could be improved."
   ]
  },
  {
   "cell_type": "code",
   "execution_count": 46,
   "metadata": {},
   "outputs": [
    {
     "data": {
      "image/png": "[encoded data removed]",
      "text/plain": [
       "<Figure size 648x648 with 1 Axes>"
      ]
     },
     "metadata": {},
     "output_type": "display_data"
    }
   ],
   "source": [
    "plt.figure(figsize=(9,9))\n",
    "plt.scatter(y_pred_test, y_test, alpha=0.2)\n",
    "# plt.hlines(y = 0, xmin = y_pred_test.min(), xmax = y_pred_test.max())\n",
    "plt.title('Predicted vs Actual')\n",
    "plt.xlabel('Predicted Values for Price in Thousands')\n",
    "plt.ylabel('Actual Values for Price in Thousands')\n",
    "plt.xticks((200000, 400000, 600000, 800000, 1000000, 2000000, 3000000, 4000000), ('200', '400', '600', '800', '1000', '2000', '3000', '4000'))\n",
    "plt.yticks((1000000, 2000000, 3000000, 4000000, 5000000, 6000000, 7000000), ('1000', '2000', '3000', '4000', '5000', '6000', '7000'))\n",
    "plt.show()"
   ]
  },
  {
   "cell_type": "code",
   "execution_count": 47,
   "metadata": {},
   "outputs": [
    {
     "data": {
      "text/plain": [
       "['intercept',\n",
       " 'bathrooms',\n",
       " 'sqft_living',\n",
       " 'sqft_lot',\n",
       " 'floors',\n",
       " 'waterfront',\n",
       " 'sqft_basement',\n",
       " 'Good',\n",
       " 'Poor',\n",
       " 'Not_Renovated',\n",
       " 'Prior_to_2000',\n",
       " 'Recently_Renovated',\n",
       " 'rural',\n",
       " 'urban',\n",
       " 'high_density',\n",
       " 'low_density',\n",
       " 'mid_density',\n",
       " 'beds_1',\n",
       " 'beds_2',\n",
       " 'beds_3',\n",
       " 'beds_4+']"
      ]
     },
     "execution_count": 47,
     "metadata": {},
     "output_type": "execute_result"
    }
   ],
   "source": [
    "const = list(['intercept'])\n",
    "cols = const + cols\n",
    "cols"
   ]
  },
  {
   "cell_type": "markdown",
   "metadata": {},
   "source": [
    "### Creating Model using OLS"
   ]
  },
  {
   "cell_type": "code",
   "execution_count": 48,
   "metadata": {},
   "outputs": [
    {
     "data": {
      "text/html": [
       "<table class=\"simpletable\">\n",
       "<caption>OLS Regression Results</caption>\n",
       "<tr>\n",
       "  <th>Dep. Variable:</th>          <td>price</td>      <th>  R-squared:         </th>  <td>   0.601</td>  \n",
       "</tr>\n",
       "<tr>\n",
       "  <th>Model:</th>                   <td>OLS</td>       <th>  Adj. R-squared:    </th>  <td>   0.600</td>  \n",
       "</tr>\n",
       "<tr>\n",
       "  <th>Method:</th>             <td>Least Squares</td>  <th>  F-statistic:       </th>  <td>   1507.</td>  \n",
       "</tr>\n",
       "<tr>\n",
       "  <th>Date:</th>             <td>Fri, 10 Jul 2020</td> <th>  Prob (F-statistic):</th>   <td>  0.00</td>   \n",
       "</tr>\n",
       "<tr>\n",
       "  <th>Time:</th>                 <td>06:42:50</td>     <th>  Log-Likelihood:    </th> <td>-2.0749e+05</td>\n",
       "</tr>\n",
       "<tr>\n",
       "  <th>No. Observations:</th>      <td> 15042</td>      <th>  AIC:               </th>  <td>4.150e+05</td> \n",
       "</tr>\n",
       "<tr>\n",
       "  <th>Df Residuals:</th>          <td> 15026</td>      <th>  BIC:               </th>  <td>4.151e+05</td> \n",
       "</tr>\n",
       "<tr>\n",
       "  <th>Df Model:</th>              <td>    15</td>      <th>                     </th>      <td> </td>     \n",
       "</tr>\n",
       "<tr>\n",
       "  <th>Covariance Type:</th>      <td>nonrobust</td>    <th>                     </th>      <td> </td>     \n",
       "</tr>\n",
       "</table>\n",
       "<table class=\"simpletable\">\n",
       "<tr>\n",
       "           <td></td>             <th>coef</th>     <th>std err</th>      <th>t</th>      <th>P>|t|</th>  <th>[0.025</th>    <th>0.975]</th>  \n",
       "</tr>\n",
       "<tr>\n",
       "  <th>intercept</th>          <td>  2.69e+04</td> <td> 1.99e+04</td> <td>    1.349</td> <td> 0.177</td> <td>-1.22e+04</td> <td>  6.6e+04</td>\n",
       "</tr>\n",
       "<tr>\n",
       "  <th>bathrooms</th>          <td> 1.783e+04</td> <td> 4348.431</td> <td>    4.100</td> <td> 0.000</td> <td> 9306.148</td> <td> 2.64e+04</td>\n",
       "</tr>\n",
       "<tr>\n",
       "  <th>sqft_living</th>        <td>  339.9139</td> <td>    3.985</td> <td>   85.291</td> <td> 0.000</td> <td>  332.102</td> <td>  347.726</td>\n",
       "</tr>\n",
       "<tr>\n",
       "  <th>sqft_lot</th>           <td>   -0.2953</td> <td>    0.054</td> <td>   -5.515</td> <td> 0.000</td> <td>   -0.400</td> <td>   -0.190</td>\n",
       "</tr>\n",
       "<tr>\n",
       "  <th>floors</th>             <td>-4.497e+04</td> <td> 5404.083</td> <td>   -8.322</td> <td> 0.000</td> <td>-5.56e+04</td> <td>-3.44e+04</td>\n",
       "</tr>\n",
       "<tr>\n",
       "  <th>waterfront</th>         <td> 8.519e+05</td> <td> 2.18e+04</td> <td>   39.001</td> <td> 0.000</td> <td> 8.09e+05</td> <td> 8.95e+05</td>\n",
       "</tr>\n",
       "<tr>\n",
       "  <th>sqft_basement</th>      <td>  -66.4220</td> <td>    6.082</td> <td>  -10.921</td> <td> 0.000</td> <td>  -78.344</td> <td>  -54.500</td>\n",
       "</tr>\n",
       "<tr>\n",
       "  <th>Good</th>               <td> 3.153e+04</td> <td> 1.31e+04</td> <td>    2.415</td> <td> 0.016</td> <td> 5937.973</td> <td> 5.71e+04</td>\n",
       "</tr>\n",
       "<tr>\n",
       "  <th>Poor</th>               <td>-4631.9965</td> <td> 1.54e+04</td> <td>   -0.301</td> <td> 0.763</td> <td>-3.48e+04</td> <td> 2.55e+04</td>\n",
       "</tr>\n",
       "<tr>\n",
       "  <th>Not_Renovated</th>      <td>-5.682e+04</td> <td> 9177.889</td> <td>   -6.191</td> <td> 0.000</td> <td>-7.48e+04</td> <td>-3.88e+04</td>\n",
       "</tr>\n",
       "<tr>\n",
       "  <th>Prior_to_2000</th>      <td>-1.351e+04</td> <td> 1.34e+04</td> <td>   -1.011</td> <td> 0.312</td> <td>-3.97e+04</td> <td> 1.27e+04</td>\n",
       "</tr>\n",
       "<tr>\n",
       "  <th>Recently_Renovated</th> <td> 9.723e+04</td> <td> 1.32e+04</td> <td>    7.368</td> <td> 0.000</td> <td> 7.14e+04</td> <td> 1.23e+05</td>\n",
       "</tr>\n",
       "<tr>\n",
       "  <th>rural</th>              <td>-6.467e+04</td> <td> 1.03e+04</td> <td>   -6.280</td> <td> 0.000</td> <td>-8.49e+04</td> <td>-4.45e+04</td>\n",
       "</tr>\n",
       "<tr>\n",
       "  <th>urban</th>              <td> 9.157e+04</td> <td> 1.02e+04</td> <td>    9.020</td> <td> 0.000</td> <td> 7.17e+04</td> <td> 1.11e+05</td>\n",
       "</tr>\n",
       "<tr>\n",
       "  <th>high_density</th>       <td>  1.39e+05</td> <td> 1.18e+05</td> <td>    1.176</td> <td> 0.240</td> <td>-9.27e+04</td> <td> 3.71e+05</td>\n",
       "</tr>\n",
       "<tr>\n",
       "  <th>low_density</th>        <td>-8.562e+04</td> <td> 4.97e+04</td> <td>   -1.724</td> <td> 0.085</td> <td>-1.83e+05</td> <td> 1.17e+04</td>\n",
       "</tr>\n",
       "<tr>\n",
       "  <th>mid_density</th>        <td>-2.645e+04</td> <td> 5.02e+04</td> <td>   -0.527</td> <td> 0.598</td> <td>-1.25e+05</td> <td> 7.19e+04</td>\n",
       "</tr>\n",
       "<tr>\n",
       "  <th>beds_1</th>             <td> 7.676e+04</td> <td> 1.69e+04</td> <td>    4.546</td> <td> 0.000</td> <td> 4.37e+04</td> <td>  1.1e+05</td>\n",
       "</tr>\n",
       "<tr>\n",
       "  <th>beds_2</th>             <td> 5.183e+04</td> <td> 8122.058</td> <td>    6.381</td> <td> 0.000</td> <td> 3.59e+04</td> <td> 6.77e+04</td>\n",
       "</tr>\n",
       "<tr>\n",
       "  <th>beds_3</th>             <td> -1.75e+04</td> <td> 7479.991</td> <td>   -2.339</td> <td> 0.019</td> <td>-3.22e+04</td> <td>-2836.626</td>\n",
       "</tr>\n",
       "<tr>\n",
       "  <th>beds_4+</th>            <td>-8.419e+04</td> <td> 8127.270</td> <td>  -10.359</td> <td> 0.000</td> <td>   -1e+05</td> <td>-6.83e+04</td>\n",
       "</tr>\n",
       "</table>\n",
       "<table class=\"simpletable\">\n",
       "<tr>\n",
       "  <th>Omnibus:</th>       <td>8574.951</td> <th>  Durbin-Watson:     </th>  <td>   2.005</td> \n",
       "</tr>\n",
       "<tr>\n",
       "  <th>Prob(Omnibus):</th>  <td> 0.000</td>  <th>  Jarque-Bera (JB):  </th> <td>250102.481</td>\n",
       "</tr>\n",
       "<tr>\n",
       "  <th>Skew:</th>           <td> 2.205</td>  <th>  Prob(JB):          </th>  <td>    0.00</td> \n",
       "</tr>\n",
       "<tr>\n",
       "  <th>Kurtosis:</th>       <td>22.483</td>  <th>  Cond. No.          </th>  <td>1.46e+21</td> \n",
       "</tr>\n",
       "</table><br/><br/>Warnings:<br/>[1] Standard Errors assume that the covariance matrix of the errors is correctly specified.<br/>[2] The smallest eigenvalue is 1.15e-29. This might indicate that there are<br/>strong multicollinearity problems or that the design matrix is singular."
      ],
      "text/plain": [
       "<class 'statsmodels.iolib.summary.Summary'>\n",
       "\"\"\"\n",
       "                            OLS Regression Results                            \n",
       "==============================================================================\n",
       "Dep. Variable:                  price   R-squared:                       0.601\n",
       "Model:                            OLS   Adj. R-squared:                  0.600\n",
       "Method:                 Least Squares   F-statistic:                     1507.\n",
       "Date:                Fri, 10 Jul 2020   Prob (F-statistic):               0.00\n",
       "Time:                        06:42:50   Log-Likelihood:            -2.0749e+05\n",
       "No. Observations:               15042   AIC:                         4.150e+05\n",
       "Df Residuals:                   15026   BIC:                         4.151e+05\n",
       "Df Model:                          15                                         \n",
       "Covariance Type:            nonrobust                                         \n",
       "======================================================================================\n",
       "                         coef    std err          t      P>|t|      [0.025      0.975]\n",
       "--------------------------------------------------------------------------------------\n",
       "intercept            2.69e+04   1.99e+04      1.349      0.177   -1.22e+04     6.6e+04\n",
       "bathrooms           1.783e+04   4348.431      4.100      0.000    9306.148    2.64e+04\n",
       "sqft_living          339.9139      3.985     85.291      0.000     332.102     347.726\n",
       "sqft_lot              -0.2953      0.054     -5.515      0.000      -0.400      -0.190\n",
       "floors             -4.497e+04   5404.083     -8.322      0.000   -5.56e+04   -3.44e+04\n",
       "waterfront          8.519e+05   2.18e+04     39.001      0.000    8.09e+05    8.95e+05\n",
       "sqft_basement        -66.4220      6.082    -10.921      0.000     -78.344     -54.500\n",
       "Good                3.153e+04   1.31e+04      2.415      0.016    5937.973    5.71e+04\n",
       "Poor               -4631.9965   1.54e+04     -0.301      0.763   -3.48e+04    2.55e+04\n",
       "Not_Renovated      -5.682e+04   9177.889     -6.191      0.000   -7.48e+04   -3.88e+04\n",
       "Prior_to_2000      -1.351e+04   1.34e+04     -1.011      0.312   -3.97e+04    1.27e+04\n",
       "Recently_Renovated  9.723e+04   1.32e+04      7.368      0.000    7.14e+04    1.23e+05\n",
       "rural              -6.467e+04   1.03e+04     -6.280      0.000   -8.49e+04   -4.45e+04\n",
       "urban               9.157e+04   1.02e+04      9.020      0.000    7.17e+04    1.11e+05\n",
       "high_density         1.39e+05   1.18e+05      1.176      0.240   -9.27e+04    3.71e+05\n",
       "low_density        -8.562e+04   4.97e+04     -1.724      0.085   -1.83e+05    1.17e+04\n",
       "mid_density        -2.645e+04   5.02e+04     -0.527      0.598   -1.25e+05    7.19e+04\n",
       "beds_1              7.676e+04   1.69e+04      4.546      0.000    4.37e+04     1.1e+05\n",
       "beds_2              5.183e+04   8122.058      6.381      0.000    3.59e+04    6.77e+04\n",
       "beds_3              -1.75e+04   7479.991     -2.339      0.019   -3.22e+04   -2836.626\n",
       "beds_4+            -8.419e+04   8127.270    -10.359      0.000      -1e+05   -6.83e+04\n",
       "==============================================================================\n",
       "Omnibus:                     8574.951   Durbin-Watson:                   2.005\n",
       "Prob(Omnibus):                  0.000   Jarque-Bera (JB):           250102.481\n",
       "Skew:                           2.205   Prob(JB):                         0.00\n",
       "Kurtosis:                      22.483   Cond. No.                     1.46e+21\n",
       "==============================================================================\n",
       "\n",
       "Warnings:\n",
       "[1] Standard Errors assume that the covariance matrix of the errors is correctly specified.\n",
       "[2] The smallest eigenvalue is 1.15e-29. This might indicate that there are\n",
       "strong multicollinearity problems or that the design matrix is singular.\n",
       "\"\"\""
      ]
     },
     "execution_count": 48,
     "metadata": {},
     "output_type": "execute_result"
    }
   ],
   "source": [
    "model = sm.OLS(y_train, X_train)\n",
    "model.exog_names[:] = cols\n",
    "model = model.fit()\n",
    "model.summary()"
   ]
  },
  {
   "cell_type": "markdown",
   "metadata": {},
   "source": [
    "### Interpreting the Model"
   ]
  },
  {
   "cell_type": "markdown",
   "metadata": {},
   "source": [
    "Adjusted R-squared is 0.60. This is reasonably acceptable, however, the model could be improved."
   ]
  },
  {
   "cell_type": "code",
   "execution_count": 49,
   "metadata": {},
   "outputs": [
    {
     "data": {
      "text/plain": [
       "intercept              26902.788847\n",
       "bathrooms              17829.603006\n",
       "sqft_living              339.913874\n",
       "sqft_lot                  -0.295267\n",
       "floors                -44973.926264\n",
       "waterfront            851943.753630\n",
       "sqft_basement            -66.421997\n",
       "Good                   31534.785382\n",
       "Poor                   -4631.996535\n",
       "Not_Renovated         -56819.877789\n",
       "Prior_to_2000         -13506.559970\n",
       "Recently_Renovated     97229.226606\n",
       "rural                 -64668.555073\n",
       "urban                  91571.343919\n",
       "high_density          138969.975342\n",
       "low_density           -85618.249245\n",
       "mid_density           -26448.937250\n",
       "beds_1                 76761.453289\n",
       "beds_2                 51829.018576\n",
       "beds_3                -17498.319926\n",
       "beds_4+               -84189.363092\n",
       "dtype: float64"
      ]
     },
     "execution_count": 49,
     "metadata": {},
     "output_type": "execute_result"
    }
   ],
   "source": [
    "#Getting Coefficients\n",
    "model.params"
   ]
  },
  {
   "cell_type": "markdown",
   "metadata": {},
   "source": [
    "### Making Predictions"
   ]
  },
  {
   "cell_type": "code",
   "execution_count": 50,
   "metadata": {},
   "outputs": [],
   "source": [
    "coefficients = list(model.params)\n",
    "ict = coefficients[0]\n",
    "ba = coefficients[1]\n",
    "sfl = coefficients[2]\n",
    "sft = coefficients[3]\n",
    "fl = coefficients[4]\n",
    "w = coefficients[5]\n",
    "sfb = coefficients[6]\n",
    "cg = coefficients[7]\n",
    "cp = coefficients[8]\n",
    "nr = coefficients[9]\n",
    "p2 = coefficients[10]\n",
    "rr = coefficients[11]\n",
    "r = coefficients[12]\n",
    "u = coefficients[13]\n",
    "hd = coefficients[14]\n",
    "ld = coefficients[15]\n",
    "md = coefficients[16]\n",
    "b1 = coefficients[17]\n",
    "b2 = coefficients[18]\n",
    "b3 = coefficients[19]\n",
    "b4 = coefficients[20]"
   ]
  },
  {
   "cell_type": "code",
   "execution_count": 51,
   "metadata": {},
   "outputs": [],
   "source": [
    "#creating equation\n",
    "def predict_price():\n",
    "\n",
    "    return"
   ]
  },
  {
   "cell_type": "markdown",
   "metadata": {},
   "source": [
    "## Check Interactions"
   ]
  },
  {
   "cell_type": "code",
   "execution_count": null,
   "metadata": {},
   "outputs": [],
   "source": [
    "from sklearn.preprocessing import PolynomialFeatures\n",
    "\n",
    "#generate interactions\n",
    "x_interaction = PolynomialFeatures(1, interaction_only=True, include_bias=False).fit_transform(df_train)"
   ]
  },
  {
   "cell_type": "code",
   "execution_count": null,
   "metadata": {},
   "outputs": [],
   "source": [
    "# DO NOT RUN - REFERENCE ONLY\n",
    "\n",
    "#new dataframe with interaction terms included\n",
    "int_df = pd.DataFrame(x_interaction, columns = ['bathrooms', 'sqft_living', 'sqft_lot', 'floors',\n",
    "      'waterfront', 'sqft_basement', 'density', 'Good', 'Poor', 'Flat', 'Hilly', 'Low_Slope', \n",
    "        'Steep', 'Not_Renovated', 'Prior_to_2000', 'Recently_Renovated', 'rural', 'urban', \n",
    "       'high_density', 'low_density', 'mid_density', 'beds1', 'beds2', 'beds3', 'beds4+',\n",
    "        \n",
    "      'bathrooms:sqft_living', 'bathrooms:bedrooms', 'bathrooms:sqft_lot', 'bathrooms:floors'])"
   ]
  },
  {
   "cell_type": "code",
   "execution_count": null,
   "metadata": {},
   "outputs": [],
   "source": [
    "# now make a new model \n",
    "int_model = linear_model.OLS(y_train, x_train).fit()"
   ]
  },
  {
   "cell_type": "code",
   "execution_count": null,
   "metadata": {},
   "outputs": [],
   "source": [
    "# get interactions which have a statistically significant pvalue\n",
    "int_model.pvalues[int_model.pvalues < 0.05]"
   ]
  },
  {
   "cell_type": "code",
   "execution_count": null,
   "metadata": {},
   "outputs": [],
   "source": [
    "model = sm.OLS(y_train, X_train)\n",
    "model.exog_names[:] = cols\n",
    "model = model.fit()\n",
    "model.summary()"
   ]
  },
  {
   "cell_type": "code",
   "execution_count": null,
   "metadata": {},
   "outputs": [],
   "source": []
  },
  {
   "cell_type": "code",
   "execution_count": null,
   "metadata": {},
   "outputs": [],
   "source": []
  },
  {
   "cell_type": "code",
   "execution_count": null,
   "metadata": {},
   "outputs": [],
   "source": []
  }
 ],
 "metadata": {
  "kernelspec": {
   "display_name": "Python 3",
   "language": "python",
   "name": "python3"
  },
  "language_info": {
   "codemirror_mode": {
    "name": "ipython",
    "version": 3
   },
   "file_extension": ".py",
   "mimetype": "text/x-python",
   "name": "python",
   "nbconvert_exporter": "python",
   "pygments_lexer": "ipython3",
   "version": "3.7.4"
  }
 },
 "nbformat": 4,
 "nbformat_minor": 4
}
