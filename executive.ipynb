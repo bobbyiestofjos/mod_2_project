{
 "cells": [
  {
   "cell_type": "markdown",
   "metadata": {},
   "source": [
    "### You will meet with your instructors on Monday to “pitch” your project idea. Be prepared to answer the following questions:"
   ]
  },
  {
   "cell_type": "markdown",
   "metadata": {},
   "source": [
    "What questions will you be addressing?"
   ]
  },
  {
   "cell_type": "markdown",
   "metadata": {},
   "source": [
    "What ways might you visualize this data to address the question?"
   ]
  },
  {
   "cell_type": "markdown",
   "metadata": {},
   "source": [
    "You will meet with the instructors to discuss your progress on the project and your plan for the rest of the week to make sure you are on the right track. We will be focusing on the steps of the CRISP-DM model. Be prepared to answer the following questions."
   ]
  },
  {
   "cell_type": "markdown",
   "metadata": {},
   "source": [
    "#### Business Understanding\n",
    "* Have you clearly defined your goal for your analysis?\n",
    "    * <font color='green'>Gain insight on housing affordability.</font>\n",
    "    * <font color='green'>Determine which factors have the largest effect on housing affordability.</font>\n",
    "    * <font color='green'>What are the number of counties that fit within the range of housing affordability?</font>\n",
    "\n",
    "* Have you thought about who your audience is and how they would use this information?\n",
    "    * <font color='green'>Washington State Housing Finance Commission, they will use our model to help them improve affordability.</font>\n",
    "\n",
    "* How does this help the goals of the business/organization?\n",
    "    * <font color='green'>This will give them insight to inform their policy and tax decisions as well as to create programs to help people afford homes.</font>\n",
    "\n",
    "#### Data Understanding\n",
    "* What data are you using?\n",
    "    * the king county house data provided\n",
    "    * equation for housing affordability from an industry standard\n",
    "* How does your data help you answer the business question?\n",
    "    * Provide a linear regression model...\n",
    "    * Tell them which counties are more affordable than others.\n",
    "    * Tell them which counties have a more serious affordabiliy problem.\n",
    "* How many observations does your dataset contain?\n",
    "    * 21,597 not including rows with NAN for waterfront, view, or yr_renovated\n",
    "* What is the distribution of your data?\n",
    "    * see plots, mostly \n",
    "* What data types do you have?\n",
    "    * ints, floats, dates/years\n",
    "\n",
    "#### Data Preparation\n",
    "* Have you looked/dealt with missing values?\n",
    "    * waterfront, view, yr_renovated (possibly just never renovated?)\n",
    "* Have you done any data-type conversion?\n",
    "    * ex: numerical data incorrectly ‘typed’ as strings.\n",
    "    * will need to convert sqft_basement from object to int or float\n",
    "* Does your data contain any outliers or non-sensical values?\n",
    "    * There are outliers but we need to revisit\n",
    "    \n",
    "    \n",
    "Given income and desired features of the house, \n",
    "affordable zip code --> \n",
    "website with sliders\n",
    "\n",
    "fit a linear regression model\n",
    "increase variable 1 unit, sales goes up x $'s\n",
    "a function takes in zip code, income, and 10-ish important features (assign average for other variables), return a price prediction, mortgage, min, max and 5 closest houses sold in 14-15."
   ]
  },
  {
   "cell_type": "code",
   "execution_count": 5,
   "metadata": {},
   "outputs": [
    {
     "data": {
      "text/plain": [
       "{'whiskers': [<matplotlib.lines.Line2D at 0x7fe197dd36d0>,\n",
       "  <matplotlib.lines.Line2D at 0x7fe197de4850>],\n",
       " 'caps': [<matplotlib.lines.Line2D at 0x7fe197de4d50>,\n",
       "  <matplotlib.lines.Line2D at 0x7fe199a81e90>],\n",
       " 'boxes': [<matplotlib.lines.Line2D at 0x7fe199e96b50>],\n",
       " 'medians': [<matplotlib.lines.Line2D at 0x7fe197e21410>],\n",
       " 'fliers': [<matplotlib.lines.Line2D at 0x7fe197e21cd0>],\n",
       " 'means': []}"
      ]
     },
     "execution_count": 5,
     "metadata": {},
     "output_type": "execute_result"
    },
    {
     "data": {
      "image/png": "[encoded data removed]",
      "text/plain": [
       "<Figure size 432x288 with 1 Axes>"
      ]
     },
     "metadata": {
      "needs_background": "light"
     },
     "output_type": "display_data"
    }
   ],
   "source": [
    "plt.boxplot(df.price)"
   ]
  },
  {
   "cell_type": "code",
   "execution_count": 6,
   "metadata": {},
   "outputs": [
    {
     "data": {
      "text/plain": [
       "(array([1.9053e+04, 2.1180e+03, 2.9800e+02, 9.0000e+01, 2.6000e+01,\n",
       "        4.0000e+00, 4.0000e+00, 1.0000e+00, 1.0000e+00, 2.0000e+00]),\n",
       " array([  78000.,  840200., 1602400., 2364600., 3126800., 3889000.,\n",
       "        4651200., 5413400., 6175600., 6937800., 7700000.]),\n",
       " <a list of 10 Patch objects>)"
      ]
     },
     "execution_count": 6,
     "metadata": {},
     "output_type": "execute_result"
    },
    {
     "data": {
      "image/png": "[encoded data removed]",
      "text/plain": [
       "<Figure size 432x288 with 1 Axes>"
      ]
     },
     "metadata": {
      "needs_background": "light"
     },
     "output_type": "display_data"
    }
   ],
   "source": [
    "plt.hist(df.price)"
   ]
  },
  {
   "cell_type": "code",
   "execution_count": null,
   "metadata": {},
   "outputs": [],
   "source": []
  }
 ],
 "metadata": {
  "kernelspec": {
   "display_name": "Python 3",
   "language": "python",
   "name": "python3"
  },
  "language_info": {
   "codemirror_mode": {
    "name": "ipython",
    "version": 3
   },
   "file_extension": ".py",
   "mimetype": "text/x-python",
   "name": "python",
   "nbconvert_exporter": "python",
   "pygments_lexer": "ipython3",
   "version": "3.7.4"
  }
 },
 "nbformat": 4,
 "nbformat_minor": 4
}
