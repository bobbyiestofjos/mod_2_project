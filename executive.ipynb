{
 "cells": [
  {
   "cell_type": "markdown",
   "metadata": {},
   "source": [
    "### You will meet with your instructors on Monday to “pitch” your project idea. Be prepared to answer the following questions:"
   ]
  },
  {
   "cell_type": "markdown",
   "metadata": {},
   "source": [
    "What questions will you be addressing?"
   ]
  },
  {
   "cell_type": "markdown",
   "metadata": {},
   "source": [
    "What ways might you visualize this data to address the question?"
   ]
  },
  {
   "cell_type": "markdown",
   "metadata": {},
   "source": [
    "You will meet with the instructors to discuss your progress on the project and your plan for the rest of the week to make sure you are on the right track. We will be focusing on the steps of the CRISP-DM model. Be prepared to answer the following questions."
   ]
  },
  {
   "cell_type": "markdown",
   "metadata": {},
   "source": [
    "#### Business Understanding\n",
    "* Have you clearly defined your goal for your analysis?\n",
    "    * <font color='green'>Gain insight on housing affordability.</font>\n",
    "    * <font color='green'>Determine which factors have the largest effect on housing affordability.</font>\n",
    "    * <font color='green'>What are the number of counties that fit within the range of housing affordability?</font>\n",
    "\n",
    "* Have you thought about who your audience is and how they would use this information?\n",
    "    * <font color='green'>Washington State Housing Finance Commission, they will use our model to help them improve affordability.</font>\n",
    "\n",
    "* How does this help the goals of the business/organization?\n",
    "    * <font color='green'>This will give them insight to inform their policy and tax decisions as well as to create programs to help people afford homes.</font>\n",
    "\n",
    "#### Data Understanding\n",
    "* What data are you using?\n",
    "    * the king county house data provided\n",
    "    * equation for housing affordability from an industry standard\n",
    "* How does your data help you answer the business question?\n",
    "    * Provide a linear regression model...\n",
    "    * Tell them which counties are more affordable than others.\n",
    "    * Tell them which counties have a more serious affordabiliy problem.\n",
    "* How many observations does your dataset contain?\n",
    "    * 21,597 not including rows with NAN for waterfront, view, or yr_renovated\n",
    "* What is the distribution of your data?\n",
    "    * see plots, mostly \n",
    "* What data types do you have?\n",
    "    * ints, floats, dates/years\n",
    "\n",
    "#### Data Preparation\n",
    "* Have you looked/dealt with missing values?\n",
    "    * waterfront, view, yr_renovated (possibly just never renovated?)\n",
    "* Have you done any data-type conversion?\n",
    "    * ex: numerical data incorrectly ‘typed’ as strings.\n",
    "    * will need to convert sqft_basement from object to int or float\n",
    "* Does your data contain any outliers or non-sensical values?\n",
    "    * There are outliers but we need to revisit\n",
    "    \n",
    "    \n",
    "<font color='green'>Given income and desired features of the house, \n",
    "affordable zip code --> \n",
    "website with sliders\n",
    "\n",
    "fit a linear regression model\n",
    "increase variable 1 unit, sales goes up x $'s\n",
    "Provide a function takes in zip code, income, and important features (allow assignment to 10-ish variables, assign average for other variables), return a price prediction, mortgage, min, max and 5 closest houses sold in 2014-2015."
   ]
  },
  {
   "cell_type": "markdown",
   "metadata": {},
   "source": [
    "### 3. CRISP-DM Check-In pt.2 - Tuesday\n",
    "- EDA/Visualization\n",
    "   - What visualizations have you already made/planning to make?\n",
    "       * scatterplots, plot of the model, histograms, box plots\n",
    "       * choropleth map\n",
    "   - What messages are these visualizations trying to convey?\n",
    "       * linear relationships, distribution, outliers\n",
    "       * \n",
    "   - What visualizations have you already made/planning to assess if your data meets the assumptions of linear regression?\n",
    "       * \n",
    "\n",
    "- Modeling:\n",
    "    - Is this a classification task? A regression task? Something else?\n",
    "        * Regression Task\n",
    "    - What models will we try?\n",
    "        * MLR\n",
    "    - How do we deal with overfitting?\n",
    "        * Split the data 80% training, 20% test and check for a \"big\" difference in the RMSE between the sets\n",
    "    - Do we need to use regularization or not?\n",
    "        * Yes, the data has different scales\n",
    "    - What sort of validation strategy will we be using to check that our model works well on unseen data?\n",
    "        * Test the model against the test dataset\n",
    "    - What loss functions will we use?\n",
    "        * MSE\n",
    "    - What threshold of performance do we consider as successful?\n",
    "        * Adjusted R^2 value of 70% or higher\n",
    "\n",
    "- Evaluation:\n",
    "    - How are you determining which variables are important.\n",
    "        * p-value, \n",
    "    - What overall metric of success are you using.\n",
    "        * High adjusted R^2 value\n",
    "    - What additional steps might you need to take to improve the model? (ex: transforming data, scaling data, getting more features)\n",
    "        * "
   ]
  },
  {
   "cell_type": "code",
   "execution_count": null,
   "metadata": {},
   "outputs": [],
   "source": []
  }
 ],
 "metadata": {
  "kernelspec": {
   "display_name": "Python 3",
   "language": "python",
   "name": "python3"
  },
  "language_info": {
   "codemirror_mode": {
    "name": "ipython",
    "version": 3
   },
   "file_extension": ".py",
   "mimetype": "text/x-python",
   "name": "python",
   "nbconvert_exporter": "python",
   "pygments_lexer": "ipython3",
   "version": "3.7.4"
  }
 },
 "nbformat": 4,
 "nbformat_minor": 4
}
