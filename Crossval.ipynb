{
 "cells": [
  {
   "cell_type": "markdown",
   "metadata": {},
   "source": [
    "### Cross Validation"
   ]
  },
  {
   "cell_type": "code",
   "execution_count": 40,
   "metadata": {},
   "outputs": [],
   "source": [
    "from sklearn.model_selection import train_test_split\n",
    "X_train, X_test, y_train, y_test = train_test_split(X, y, test_size=0.2, random_state=17)"
   ]
  },
  {
   "cell_type": "code",
   "execution_count": 41,
   "metadata": {},
   "outputs": [
    {
     "name": "stdout",
     "output_type": "stream",
     "text": [
      "12033 3009 12033 3009\n"
     ]
    }
   ],
   "source": [
    "#verifying the number of observations in each group\n",
    "print(len(X_train), len(X_test), len(y_train), len(y_test))"
   ]
  },
  {
   "cell_type": "code",
   "execution_count": 43,
   "metadata": {},
   "outputs": [],
   "source": [
    "# doing the test\n",
    "from sklearn.linear_model import LinearRegression\n",
    "linreg = LinearRegression() #instantiate\n",
    "linreg.fit(X_train, y_train)\n",
    "\n",
    "y_pred_train = linreg.predict(X_train)\n",
    "y_pred_test = linreg.predict(X_test)"
   ]
  },
  {
   "cell_type": "code",
   "execution_count": 44,
   "metadata": {},
   "outputs": [],
   "source": [
    "# getting residuals\n",
    "train_residiuals = y_pred_train - y_train\n",
    "test_residuals = y_pred_test - y_test"
   ]
  },
  {
   "cell_type": "code",
   "execution_count": 45,
   "metadata": {},
   "outputs": [
    {
     "name": "stdout",
     "output_type": "stream",
     "text": [
      "Train Mean Squarred Error: 49016448066.9487\n",
      "Test Mean Squarred Error: 49486876054.88739\n"
     ]
    }
   ],
   "source": [
    "# Manual Method of finding MSE\n",
    "mse_train = np.sum((y_train-y_pred_train)**2)/len(y_train)\n",
    "mse_test = np.sum((y_test-y_pred_test)**2)/len(y_test)\n",
    "print('Train Mean Squared Error:', mse_train)\n",
    "print('Test Mean Squared Error:', mse_test)"
   ]
  },
  {
   "cell_type": "code",
   "execution_count": 46,
   "metadata": {},
   "outputs": [
    {
     "name": "stdout",
     "output_type": "stream",
     "text": [
      "Train Mean Squarred Error: 49016448066.9487\n",
      "Test Mean Squarred Error: 49486876054.88739\n"
     ]
    }
   ],
   "source": [
    "# Alternate Method Using sklearn\n",
    "from sklearn.metrics import mean_squared_error\n",
    "\n",
    "train_mse = mean_squared_error(y_train, y_pred_train)\n",
    "test_mse = mean_squared_error(y_test, y_pred_test)\n",
    "print('Train Mean Squared Error:', train_mse)\n",
    "print('Test Mean Squared Error:', test_mse)"
   ]
  }
 ],
 "metadata": {
  "kernelspec": {
   "display_name": "Python 3",
   "language": "python",
   "name": "python3"
  },
  "language_info": {
   "codemirror_mode": {
    "name": "ipython",
    "version": 3
   },
   "file_extension": ".py",
   "mimetype": "text/x-python",
   "name": "python",
   "nbconvert_exporter": "python",
   "pygments_lexer": "ipython3",
   "version": "3.7.6"
  }
 },
 "nbformat": 4,
 "nbformat_minor": 4
}
