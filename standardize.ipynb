{
 "cells": [
  {
   "cell_type": "markdown",
   "metadata": {},
   "source": [
    "## Standardizing the Data"
   ]
  },
  {
   "cell_type": "code",
   "execution_count": 47,
   "metadata": {},
   "outputs": [],
   "source": [
    "#standardization function will get applied to both df_tr and df_tr_price\n",
    "def standardize(element, sigma):\n",
    "    \"\"\"Changes the mean and standard error\"\"\"\n",
    "    std_element = (element - np.mean(element)) / sigma\n",
    "    return std_element"
   ]
  },
  {
   "cell_type": "code",
   "execution_count": 54,
   "metadata": {},
   "outputs": [
    {
     "data": {
      "text/plain": [
       "0.9024371117603952"
      ]
     },
     "execution_count": 54,
     "metadata": {},
     "output_type": "execute_result"
    }
   ],
   "source": [
    "# finding std deviation of one column as a test\n",
    "sigma_bed = df_tr['bedrooms'].std()\n",
    "sigma_bed "
   ]
  },
  {
   "cell_type": "code",
   "execution_count": 64,
   "metadata": {},
   "outputs": [
    {
     "data": {
      "text/plain": [
       "[1.0000000000000187,\n",
       " 0.768533068309458,\n",
       " 923.8658901689922,\n",
       " 37632.780592424984,\n",
       " 0.5405579646162327,\n",
       " 0.09005985945836892,\n",
       " 0.6512450303625753,\n",
       " 832.9893852459454,\n",
       " 443.5058710499704,\n",
       " 0.2707940671768969,\n",
       " 0.11021996735989986,\n",
       " 0.39273469093103397,\n",
       " 0.40575939686252493,\n",
       " 0.0704379751866444,\n",
       " 0.3811497187699842,\n",
       " 0.3950738242287047,\n",
       " 0.12984184622839456,\n",
       " 0.4858596564449966,\n",
       " 0.4858596564449966]"
      ]
     },
     "execution_count": 64,
     "metadata": {},
     "output_type": "execute_result"
    }
   ],
   "source": [
    "# making a list of the standard deviations of each column\n",
    "sigmas = [df_tr[col].std() for col in df_tr]\n",
    "sigmas"
   ]
  },
  {
   "cell_type": "code",
   "execution_count": 56,
   "metadata": {},
   "outputs": [
    {
     "ename": "SyntaxError",
     "evalue": "Generator expression must be parenthesized (<ipython-input-56-599daba0e69c>, line 2)",
     "output_type": "error",
     "traceback": [
      "\u001b[0;36m  File \u001b[0;32m\"<ipython-input-56-599daba0e69c>\"\u001b[0;36m, line \u001b[0;32m2\u001b[0m\n\u001b[0;31m    col.apply(lambda x: standardize(col, i for i in sigmas))\u001b[0m\n\u001b[0m                                        ^\u001b[0m\n\u001b[0;31mSyntaxError\u001b[0m\u001b[0;31m:\u001b[0m Generator expression must be parenthesized\n"
     ]
    }
   ],
   "source": [
    "# NEED HELP\n",
    "\n",
    "# Standardizing All Columns at once\n",
    "# Loop through the dataframe, one column at a time, taking the floats from the sigmas list one at a time\n",
    "\n",
    "for (col, data) in df_tr.iteritems():\n",
    "    col.apply(lambda x: standardize(col, i for i in sigmas))"
   ]
  },
  {
   "cell_type": "code",
   "execution_count": 60,
   "metadata": {},
   "outputs": [],
   "source": [
    "# Standardizing one Column at a time, as a test\n",
    "# when the for loop works, the values should match those under bedrooms column below.\n",
    "df_tr['bedrooms'] = standardize(df['bedrooms'], sigma_bed)\n"
   ]
  },
  {
   "cell_type": "code",
   "execution_count": 61,
   "metadata": {},
   "outputs": [
    {
     "data": {
      "text/html": [
       "<div>\n",
       "<style scoped>\n",
       "    .dataframe tbody tr th:only-of-type {\n",
       "        vertical-align: middle;\n",
       "    }\n",
       "\n",
       "    .dataframe tbody tr th {\n",
       "        vertical-align: top;\n",
       "    }\n",
       "\n",
       "    .dataframe thead th {\n",
       "        text-align: right;\n",
       "    }\n",
       "</style>\n",
       "<table border=\"1\" class=\"dataframe\">\n",
       "  <thead>\n",
       "    <tr style=\"text-align: right;\">\n",
       "      <th></th>\n",
       "      <th>bedrooms</th>\n",
       "      <th>bathrooms</th>\n",
       "      <th>sqft_living</th>\n",
       "      <th>sqft_lot</th>\n",
       "      <th>floors</th>\n",
       "      <th>waterfront</th>\n",
       "      <th>condition</th>\n",
       "      <th>sqft_above</th>\n",
       "      <th>sqft_basement</th>\n",
       "      <th>living_density</th>\n",
       "      <th>Flat</th>\n",
       "      <th>Hilly</th>\n",
       "      <th>Low_Slope</th>\n",
       "      <th>Steep</th>\n",
       "      <th>Not_Renovated</th>\n",
       "      <th>Prior_to_2000</th>\n",
       "      <th>Recently_Renovated</th>\n",
       "      <th>suburban</th>\n",
       "      <th>urban</th>\n",
       "    </tr>\n",
       "  </thead>\n",
       "  <tbody>\n",
       "    <tr>\n",
       "      <th>0</th>\n",
       "      <td>-0.415486</td>\n",
       "      <td>1.75</td>\n",
       "      <td>2600.0</td>\n",
       "      <td>105587.0</td>\n",
       "      <td>1.0</td>\n",
       "      <td>0.0</td>\n",
       "      <td>4.0</td>\n",
       "      <td>1300.0</td>\n",
       "      <td>1300.0</td>\n",
       "      <td>0.024624</td>\n",
       "      <td>0.0</td>\n",
       "      <td>0.0</td>\n",
       "      <td>1.0</td>\n",
       "      <td>0.0</td>\n",
       "      <td>0.0</td>\n",
       "      <td>1.0</td>\n",
       "      <td>0.0</td>\n",
       "      <td>1.0</td>\n",
       "      <td>0.0</td>\n",
       "    </tr>\n",
       "    <tr>\n",
       "      <th>1</th>\n",
       "      <td>0.692624</td>\n",
       "      <td>2.75</td>\n",
       "      <td>5470.0</td>\n",
       "      <td>18200.0</td>\n",
       "      <td>2.0</td>\n",
       "      <td>1.0</td>\n",
       "      <td>3.0</td>\n",
       "      <td>3730.0</td>\n",
       "      <td>1740.0</td>\n",
       "      <td>0.300549</td>\n",
       "      <td>0.0</td>\n",
       "      <td>1.0</td>\n",
       "      <td>0.0</td>\n",
       "      <td>0.0</td>\n",
       "      <td>0.0</td>\n",
       "      <td>1.0</td>\n",
       "      <td>0.0</td>\n",
       "      <td>0.0</td>\n",
       "      <td>1.0</td>\n",
       "    </tr>\n",
       "    <tr>\n",
       "      <th>2</th>\n",
       "      <td>-1.523597</td>\n",
       "      <td>1.50</td>\n",
       "      <td>1180.0</td>\n",
       "      <td>1034.0</td>\n",
       "      <td>2.0</td>\n",
       "      <td>0.0</td>\n",
       "      <td>3.0</td>\n",
       "      <td>1120.0</td>\n",
       "      <td>60.0</td>\n",
       "      <td>1.141199</td>\n",
       "      <td>0.0</td>\n",
       "      <td>0.0</td>\n",
       "      <td>1.0</td>\n",
       "      <td>0.0</td>\n",
       "      <td>1.0</td>\n",
       "      <td>0.0</td>\n",
       "      <td>0.0</td>\n",
       "      <td>0.0</td>\n",
       "      <td>1.0</td>\n",
       "    </tr>\n",
       "  </tbody>\n",
       "</table>\n",
       "</div>"
      ],
      "text/plain": [
       "   bedrooms  bathrooms  sqft_living  sqft_lot  floors  waterfront  condition  \\\n",
       "0 -0.415486       1.75       2600.0  105587.0     1.0         0.0        4.0   \n",
       "1  0.692624       2.75       5470.0   18200.0     2.0         1.0        3.0   \n",
       "2 -1.523597       1.50       1180.0    1034.0     2.0         0.0        3.0   \n",
       "\n",
       "   sqft_above  sqft_basement  living_density  Flat  Hilly  Low_Slope  Steep  \\\n",
       "0      1300.0         1300.0        0.024624   0.0    0.0        1.0    0.0   \n",
       "1      3730.0         1740.0        0.300549   0.0    1.0        0.0    0.0   \n",
       "2      1120.0           60.0        1.141199   0.0    0.0        1.0    0.0   \n",
       "\n",
       "   Not_Renovated  Prior_to_2000  Recently_Renovated  suburban  urban  \n",
       "0            0.0            1.0                 0.0       1.0    0.0  \n",
       "1            0.0            1.0                 0.0       0.0    1.0  \n",
       "2            1.0            0.0                 0.0       0.0    1.0  "
      ]
     },
     "execution_count": 61,
     "metadata": {},
     "output_type": "execute_result"
    }
   ],
   "source": [
    "df_tr.head(3)"
   ]
  },
  {
   "cell_type": "code",
   "execution_count": 1,
   "metadata": {},
   "outputs": [
    {
     "ename": "SyntaxError",
     "evalue": "invalid syntax (<ipython-input-1-8379a82257ac>, line 6)",
     "output_type": "error",
     "traceback": [
      "\u001b[0;36m  File \u001b[0;32m\"<ipython-input-1-8379a82257ac>\"\u001b[0;36m, line \u001b[0;32m6\u001b[0m\n\u001b[0;31m    std_element * sigma + np.mean(element) =\u001b[0m\n\u001b[0m                                             ^\u001b[0m\n\u001b[0;31mSyntaxError\u001b[0m\u001b[0;31m:\u001b[0m invalid syntax\n"
     ]
    }
   ],
   "source": [
    "# inverse transformation for coefficients\n",
    "\n",
    "# this was the original transformation:\n",
    "# std_element = (element - np.mean(element)) / sigma\n",
    "\n",
    "# the reverse transformation is like this:std_element * sigma + np.mean(element)\n"
   ]
  },
  {
   "cell_type": "code",
   "execution_count": null,
   "metadata": {},
   "outputs": [],
   "source": []
  }
 ],
 "metadata": {
  "kernelspec": {
   "display_name": "Python 3",
   "language": "python",
   "name": "python3"
  },
  "language_info": {
   "codemirror_mode": {
    "name": "ipython",
    "version": 3
   },
   "file_extension": ".py",
   "mimetype": "text/x-python",
   "name": "python",
   "nbconvert_exporter": "python",
   "pygments_lexer": "ipython3",
   "version": "3.7.6"
  }
 },
 "nbformat": 4,
 "nbformat_minor": 4
}
